{
 "cells": [
  {
   "cell_type": "markdown",
   "metadata": {},
   "source": [
    "# Data Structures\n",
    "\n",
    "To keep this documentation generic we typically use dimensions `x` or `y`, but this should *not* be seen as a recommendation to use these labels for anything but actual positions or offsets in space.\n",
    "\n",
    "## Variable\n",
    "\n",
    "### Basics\n",
    "\n",
    "[scipp.Variable](../../generated/classes/scipp.Variable.rst#scipp.Variable) is a labeled multi-dimensional array.\n",
    "A variable has the following key properties:\n",
    "\n",
    "- `values`: a multi-dimensional array of values, e.g., similar to a [numpy.ndarray](https://numpy.org/doc/stable/reference/generated/numpy.ndarray.html#numpy.ndarray)\n",
    "- `variances`: a (optional) multi-dimensional array of variances for the array values\n",
    "- `dims`: a list of dimension labels (strings) for each axis of the array\n",
    "- `unit`: a (optional) physical unit of the values in the array\n",
    "\n",
    "Note that variables, unlike [DataArray](data-structures.ipynb#DataArray) and its eponym [xarray.DataArray](https://xarray.pydata.org/en/stable/user-guide/data-structures.html#dataarray), do *not* have coordinate dicts."
   ]
  },
  {
   "cell_type": "code",
   "execution_count": null,
   "metadata": {},
   "outputs": [],
   "source": [
    "import numpy as np\n",
    "import scipp as sc"
   ]
  },
  {
   "cell_type": "markdown",
   "metadata": {},
   "source": [
    "Variables should generally be created using one of the available [creation functions](../../reference/creation-functions.rst#creation-functions).\n",
    "For example, we can create a variable from a NumPy array:"
   ]
  },
  {
   "cell_type": "code",
   "execution_count": null,
   "metadata": {},
   "outputs": [],
   "source": [
    "var = sc.array(dims=['x', 'y'], values=np.random.rand(2, 4), unit='s')"
   ]
  },
  {
   "cell_type": "markdown",
   "metadata": {},
   "source": [
    "Using a unit is optional but highly encouraged if the variable represents a physical quantity.\n",
    "See [Creating Arrays and Datasets](./creating-arrays-and-datasets.rst) for an overview of the different methods for creating variables.\n",
    "\n",
    "<div class=\"alert alert-info\">\n",
    "\n",
    "**Note:**\n",
    "\n",
    "Internally Scipp does not use NumPy, so the above makes a *copy* of the numpy array of values into an internal buffer.\n",
    "    \n",
    "</div>"
   ]
  },
  {
   "cell_type": "markdown",
   "metadata": {},
   "source": [
    "We can inspect the created variable as follows:"
   ]
  },
  {
   "cell_type": "code",
   "execution_count": null,
   "metadata": {},
   "outputs": [],
   "source": [
    "sc.show(var)"
   ]
  },
  {
   "cell_type": "code",
   "execution_count": null,
   "metadata": {},
   "outputs": [],
   "source": [
    "var"
   ]
  },
  {
   "cell_type": "markdown",
   "metadata": {},
   "source": [
    "<div class=\"alert alert-warning\">\n",
    "    <b>WARNING:</b>\n",
    "\n",
    "The above makes use of IPython's rich output representation, but relying on this feature has a common pitfall:\n",
    "    \n",
    "IPython (and thus Jupyter) has an [Output caching system](https://ipython.readthedocs.io/en/stable/interactive/reference.html?highlight=previous#output-caching-system).\n",
    "By default this keeps the last 1000 cell outputs.\n",
    "In the above case this is `var` (not the displayed HTML, but the object itself).\n",
    "If such cell outputs are large then this output cache can consume enormous amounts of memory.\n",
    "\n",
    "Note that `del var` will *not* release the memory, since the IPython output cache still holds a reference to the same object.\n",
    "See [this FAQ entry](../../getting-started/faq.rst#scipp-is-using-more-and-more-memory-the-jupyter-kernel-crashes) for clearing or disabling this caching.\n",
    "\n",
    "</div>"
   ]
  },
  {
   "cell_type": "code",
   "execution_count": null,
   "metadata": {},
   "outputs": [],
   "source": [
    "var.unit"
   ]
  },
  {
   "cell_type": "code",
   "execution_count": null,
   "metadata": {},
   "outputs": [],
   "source": [
    "var.values"
   ]
  },
  {
   "cell_type": "markdown",
   "metadata": {},
   "source": [
    "### 0-D variables (scalars)\n",
    "\n",
    "A 0-dimensional variable contains a single value (and an optional variance)."
   ]
  },
  {
   "cell_type": "code",
   "execution_count": null,
   "metadata": {
    "tags": []
   },
   "outputs": [],
   "source": [
    "scalar = sc.scalar(1.2, unit='s')\n",
    "sc.show(scalar)\n",
    "scalar"
   ]
  },
  {
   "cell_type": "markdown",
   "metadata": {},
   "source": [
    "Singular versions of the `values` and `variances` properties are provided:"
   ]
  },
  {
   "cell_type": "code",
   "execution_count": null,
   "metadata": {
    "tags": []
   },
   "outputs": [],
   "source": [
    "print(scalar.value)\n",
    "print(scalar.variance)"
   ]
  },
  {
   "cell_type": "markdown",
   "metadata": {},
   "source": [
    "An exception is raised from the `value` and `variance` properties if the variable is not 0-dimensional.\n",
    "\n",
    "<div class=\"alert alert-info\">\n",
    "\n",
    "**Note:**\n",
    "\n",
    "Scalar variables are distinct from arrays that contain a single value.\n",
    "For example, `sc.scalar(1)` is equivalent to `sc.array(dims=[], values=1)`.\n",
    "But all the following are distinct:\n",
    "\n",
    " - `sc.array(dims=[], values=1)`\n",
    " - `sc.array(dims=['x'], values=[1])`\n",
    " - `sc.array(dims=['x', 'y'], values=[[1]])`\n",
    "\n",
    "In particular, the first is a scalar while the other two are not; they are arrays with an extent of one.\n",
    "Accessing the `value` property of one of the latter two variables would raise an exception because this property requires a 0-dimensional variable.\n",
    "\n",
    "</div>"
   ]
  },
  {
   "cell_type": "markdown",
   "metadata": {},
   "source": [
    "## DataArray\n",
    "\n",
    "### Basics\n",
    "\n",
    "[scipp.DataArray](../../generated/classes/scipp.DataArray.rst#scipp.DataArray) is a labeled array with associated coordinates.\n",
    "A data array is essentially a [Variable](../../generated/classes/scipp.Variable.rst#scipp.Variable) object with attached dicts of coordinates and masks.\n",
    "\n",
    "A data array has the following key properties:\n",
    "\n",
    "- `data`: the variable holding the array data (its values, variances, dims, and unit).\n",
    "- `coords`: a dict-like container of coordinates for the array.\n",
    "- `masks`: a dict-like container of masks for the array.\n",
    "\n",
    "All dict-likes are accessed using a string as key.\n",
    "\n",
    "`coords` can be seen as independent variables of the data array, while `data` is the dependent variable.\n",
    "This means that coordinates must generally match in operations between data arrays.\n",
    "See the section on [alignment](../computation.ipynb#Alignment) in the computation guide for details.\n",
    "\n",
    "`masks` allows for storing boolean-valued masks alongside data.\n",
    "\n",
    "`data` as well as the individual values of the `coords` and `masks` dictionaries are of type [Variable](../../generated/classes/scipp.Variable.rst#scipp.Variable), i.e., they have a physical unit and can be used for computation.\n",
    "\n",
    "<div class=\"alert alert-warning\">\n",
    "\n",
    "    **Deprecation**\n",
    "\n",
    "Data arrays also have `attrs` which are essentially unaligned coordinates.\n",
    "`attrs` have been deprecated in version 23.09.0 and will be removed in version 24.12.0.\n",
    "See [ADR 0016](../../development/adr/0016-do-not-support-attrs.rst)\n",
    "</div>\n",
    "\n",
    "A data array can be created from variables for its constituents as follows:"
   ]
  },
  {
   "cell_type": "code",
   "execution_count": null,
   "metadata": {
    "tags": []
   },
   "outputs": [],
   "source": [
    "da = sc.DataArray(\n",
    "    data=sc.array(dims=['y', 'x'], values=np.random.rand(2, 3)),\n",
    "    coords={\n",
    "        'y': sc.array(dims=['y'], values=np.arange(2.0), unit='m'),\n",
    "        'x': sc.array(dims=['x'], values=np.arange(3.0), unit='m'),\n",
    "    },\n",
    "    masks={\n",
    "        'm': sc.array(dims=['x'], values=[False, True, False]),\n",
    "    },\n",
    ")\n",
    "sc.show(da)"
   ]
  },
  {
   "cell_type": "markdown",
   "metadata": {},
   "source": [
    "The dict-like `coords` and `masks` properties give access to the respective underlying variables:"
   ]
  },
  {
   "cell_type": "code",
   "execution_count": null,
   "metadata": {},
   "outputs": [],
   "source": [
    "da.coords['x']"
   ]
  },
  {
   "cell_type": "code",
   "execution_count": null,
   "metadata": {},
   "outputs": [],
   "source": [
    "da.masks['m']"
   ]
  },
  {
   "cell_type": "markdown",
   "metadata": {},
   "source": [
    "Unlike `values` when creating a variable, `data` as well as entries in the metadata dicts (`coords` and `masks`) are *not* deep-copied on insertion into a data array.\n",
    "To avoid unwanted sharing, call the `copy()` method.\n",
    "Compare:"
   ]
  },
  {
   "cell_type": "code",
   "execution_count": null,
   "metadata": {},
   "outputs": [],
   "source": [
    "x2 = sc.zeros(dims=['x'], shape=[3])\n",
    "da.coords['x2_shared'] = x2\n",
    "da.coords['x2_copied'] = x2.copy()\n",
    "x2 += 123\n",
    "da"
   ]
  },
  {
   "cell_type": "markdown",
   "metadata": {},
   "source": [
    "Meta data can be removed in the same way as in Python dicts:"
   ]
  },
  {
   "cell_type": "code",
   "execution_count": null,
   "metadata": {},
   "outputs": [],
   "source": [
    "del da.coords['x2_shared']"
   ]
  },
  {
   "cell_type": "markdown",
   "metadata": {},
   "source": [
    "Alignment of coordinates can be queried with the `aligned` property:"
   ]
  },
  {
   "cell_type": "code",
   "execution_count": null,
   "metadata": {
    "tags": []
   },
   "outputs": [],
   "source": [
    "da.coords['x'].aligned"
   ]
  },
  {
   "cell_type": "markdown",
   "metadata": {},
   "source": [
    "It can be set using the `set_aligned` method of the coordinates:"
   ]
  },
  {
   "cell_type": "code",
   "execution_count": null,
   "metadata": {
    "tags": []
   },
   "outputs": [],
   "source": [
    "da.coords.set_aligned('x', False)\n",
    "da.coords['x'].aligned"
   ]
  },
  {
   "cell_type": "markdown",
   "metadata": {},
   "source": [
    "Note that the alignment is encoded in [Variable](../../generated/classes/scipp.Variable.rst#scipp.Variable).\n",
    "It is, however, only meaningful in a `coords` dict.\n",
    "Scipp ignores alignment in operations of plain variables and when handling masks.\n",
    "\n",
    "The alignment flag is preserved when inserting variables into `coords` dicts:"
   ]
  },
  {
   "cell_type": "code",
   "execution_count": null,
   "metadata": {
    "tags": []
   },
   "outputs": [],
   "source": [
    "da2 = sc.DataArray(sc.arange('x', 3), coords={'x': da.coords['x']})\n",
    "da2.coords['x'].aligned"
   ]
  },
  {
   "cell_type": "markdown",
   "metadata": {},
   "source": [
    "## Dataset\n",
    "\n",
    "[scipp.Dataset](../../generated/classes/scipp.Dataset.rst#scipp.Dataset) is a dict-like container of data arrays.\n",
    "Individual items of a dataset (\"data arrays\") are accessed using a string as a dict key.\n",
    "\n",
    "In a dataset the coordinates of the sub-arrays are enforced to be *aligned*.\n",
    "That is, a dataset is not simply a dict of data arrays.\n",
    "Instead, the individual arrays share their coordinates.\n",
    "It is therefore not possible to combine *arbitrary* data arrays into a dataset.\n",
    "If, e.g., the extents in a certain dimension mismatch, or if coordinate values mismatch, insertion of the mismatching data array will fail.\n",
    "\n",
    "Often a dataset is not created from individual data arrays.\n",
    "Instead we may provide a dict of variables (the data of the items), and dicts for coords:"
   ]
  },
  {
   "cell_type": "code",
   "execution_count": null,
   "metadata": {
    "tags": []
   },
   "outputs": [],
   "source": [
    "ds = sc.Dataset(\n",
    "    data={\n",
    "        'a': sc.array(dims=['y', 'x'], values=np.random.rand(2, 3)),\n",
    "        'b': sc.array(dims=['x', 'y'], values=np.random.rand(3, 2)),\n",
    "    },\n",
    "    coords={\n",
    "        'x': sc.array(dims=['x'], values=np.arange(3.0), unit='m'),\n",
    "        'y': sc.array(dims=['y'], values=np.arange(2.0), unit='m'),\n",
    "        'aux': sc.array(dims=['x'], values=np.random.rand(3)),\n",
    "    },\n",
    ")\n",
    "sc.show(ds)"
   ]
  },
  {
   "cell_type": "code",
   "execution_count": null,
   "metadata": {
    "tags": []
   },
   "outputs": [],
   "source": [
    "ds"
   ]
  },
  {
   "cell_type": "code",
   "execution_count": null,
   "metadata": {
    "tags": []
   },
   "outputs": [],
   "source": [
    "ds.coords['x'].values"
   ]
  },
  {
   "cell_type": "markdown",
   "metadata": {},
   "source": [
    "The name of a data item serves as a dict key.\n",
    "Item access returns a new data array which is a view onto the data in the dataset and its corresponding coordinates, i.e., no deep copy is made:"
   ]
  },
  {
   "cell_type": "code",
   "execution_count": null,
   "metadata": {
    "tags": []
   },
   "outputs": [],
   "source": [
    "sc.show(ds['a'])\n",
    "ds['a']"
   ]
  },
  {
   "cell_type": "markdown",
   "metadata": {},
   "source": [
    "Use the `copy()` method to turn the view into an independent object:"
   ]
  },
  {
   "cell_type": "code",
   "execution_count": null,
   "metadata": {
    "tags": []
   },
   "outputs": [],
   "source": [
    "copy_of_a = ds['a'].copy()\n",
    "copy_of_a += 17  # does not change d['a']\n",
    "ds"
   ]
  },
  {
   "cell_type": "markdown",
   "metadata": {},
   "source": [
    "Each data item is linked to its corresponding coordinates and masks.\n",
    "These are accessed using the `coords` and `masks` properties.\n",
    "The variable holding the data of the dataset item is accessible via the `data` property:"
   ]
  },
  {
   "cell_type": "code",
   "execution_count": null,
   "metadata": {
    "tags": []
   },
   "outputs": [],
   "source": [
    "ds['a'].data"
   ]
  },
  {
   "cell_type": "markdown",
   "metadata": {},
   "source": [
    "For convenience, properties of the data variable are also properties of the data item:"
   ]
  },
  {
   "cell_type": "code",
   "execution_count": null,
   "metadata": {
    "tags": []
   },
   "outputs": [],
   "source": [
    "ds['a'].values"
   ]
  },
  {
   "cell_type": "code",
   "execution_count": null,
   "metadata": {
    "tags": []
   },
   "outputs": [],
   "source": [
    "ds['a'].variances"
   ]
  },
  {
   "cell_type": "code",
   "execution_count": null,
   "metadata": {
    "tags": []
   },
   "outputs": [],
   "source": [
    "ds['a'].unit"
   ]
  },
  {
   "cell_type": "markdown",
   "metadata": {},
   "source": [
    "All variables in a dataset must have consistent dimensions.\n",
    "Thanks to labeled dimensions, transposed data is supported.\n",
    "Compare items `'a'` and `'b'`:"
   ]
  },
  {
   "cell_type": "code",
   "execution_count": null,
   "metadata": {
    "tags": []
   },
   "outputs": [],
   "source": [
    "ds['a']"
   ]
  },
  {
   "cell_type": "code",
   "execution_count": null,
   "metadata": {
    "tags": []
   },
   "outputs": [],
   "source": [
    "ds['b']"
   ]
  },
  {
   "cell_type": "markdown",
   "metadata": {},
   "source": [
    "When inserting a data array or variable into a dataset ownership is shared by default.\n",
    "Use the `copy()` method to avoid this if undesirable:"
   ]
  },
  {
   "cell_type": "code",
   "execution_count": null,
   "metadata": {
    "tags": []
   },
   "outputs": [],
   "source": [
    "ds['da_shared'] = da\n",
    "ds['da_copied'] = da.copy()\n",
    "da += 1000\n",
    "ds"
   ]
  },
  {
   "cell_type": "markdown",
   "metadata": {},
   "source": [
    "The usual `dict`-like methods are available for `Dataset`:"
   ]
  },
  {
   "cell_type": "code",
   "execution_count": null,
   "metadata": {
    "tags": []
   },
   "outputs": [],
   "source": [
    "for name in ds:\n",
    "    print(name)"
   ]
  },
  {
   "cell_type": "code",
   "execution_count": null,
   "metadata": {
    "tags": []
   },
   "outputs": [],
   "source": [
    "'a' in ds"
   ]
  },
  {
   "cell_type": "code",
   "execution_count": null,
   "metadata": {
    "tags": []
   },
   "outputs": [],
   "source": [
    "'e' in ds"
   ]
  },
  {
   "cell_type": "markdown",
   "metadata": {},
   "source": [
    "## DataGroup"
   ]
  },
  {
   "cell_type": "markdown",
   "metadata": {},
   "source": [
    "[scipp.DataGroup](../../generated/classes/scipp.DataGroup.rst#scipp.DataGroup) is a dict-like container for arbitrary Scipp or Python objects.\n",
    "Unlike [Dataset](#Dataset), `DataGroup` does not have coords and does not enforce compatible dimensions of its items.\n",
    "A `DataGroup` can contain other `DataGroup` objects and thus allows for representing tree-like data.\n",
    "It can be created like a Python `dict`:"
   ]
  },
  {
   "cell_type": "code",
   "execution_count": null,
   "metadata": {
    "tags": []
   },
   "outputs": [],
   "source": [
    "import numpy as np\n",
    "\n",
    "import scipp as sc\n",
    "\n",
    "dg = sc.DataGroup(\n",
    "    a=sc.arange('x', 4),\n",
    "    b=sc.arange('x', 6),\n",
    "    c=sc.arange('y', 2),\n",
    "    d=np.ones((2, 3)),\n",
    "    e='a string',\n",
    ")\n",
    "dg"
   ]
  },
  {
   "cell_type": "markdown",
   "metadata": {},
   "source": [
    "Just like [DataArray](#DataArray), `DataGroup` provides properties such as `dims`, `shape`, and `sizes`:"
   ]
  },
  {
   "cell_type": "code",
   "execution_count": null,
   "metadata": {},
   "outputs": [],
   "source": [
    "dg.dims"
   ]
  },
  {
   "cell_type": "code",
   "execution_count": null,
   "metadata": {},
   "outputs": [],
   "source": [
    "dg.shape"
   ]
  },
  {
   "cell_type": "code",
   "execution_count": null,
   "metadata": {},
   "outputs": [],
   "source": [
    "dg.sizes"
   ]
  },
  {
   "cell_type": "markdown",
   "metadata": {},
   "source": [
    "The properties return the union of these properties over all the items in the data group.\n",
    "Non-Scipp objects are considered to have `dims=()` and `shape=()`.\n",
    "When items have inconsistent size along a dimension then `shape` and `sizes` report this as `None`.\n",
    "\n",
    "`DataGroup` supports [positional indexing](../slicing.ipynb#Positional-indexing) if the shape along the indexed dimension is unique.\n",
    "[Label-based indexing](../slicing.ipynb#Label-based-indexing) is supported if all items have a corresponding coordinate, even if the shape is not unique.\n",
    "\n",
    "Most Scipp operations also work for `DataGroup`, provided that the operation works for all items in the group.\n",
    "That is, operations will generally fail if the data group contains non-Scipp objects such as NumPy arrays or other Python objects such as integers or strings."
   ]
  }
 ],
 "metadata": {
  "kernelspec": {
   "display_name": "Python 3 (ipykernel)",
   "language": "python",
   "name": "python3"
  },
  "language_info": {
   "codemirror_mode": {
    "name": "ipython",
    "version": 3
   },
   "file_extension": ".py",
   "mimetype": "text/x-python",
   "name": "python",
   "nbconvert_exporter": "python",
   "pygments_lexer": "ipython3"
  }
 },
 "nbformat": 4,
 "nbformat_minor": 4
}
