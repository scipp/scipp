{
 "cells": [
  {
   "cell_type": "markdown",
   "metadata": {},
   "source": [
    "# Creating Arrays and Datasets\n",
    "\n",
    "There are several ways to create data structures in Scipp.\n",
    "`scipp.Variable` is particularly diverse.\n",
    "\n",
    "The examples on this page only show some representative creation functions and only the most commonly used arguments.\n",
    "See the linked reference pages for complete lists of functions and arguments.\n",
    "\n",
    "## Variable\n",
    "\n",
    "[Variables](../../generated/classes/scipp.Variable.rst) can be created using any of the dedicated [creation functions](../../reference/creation-functions.rst#creation-functions).\n",
    "These fall into several categories as described by the following subsections.\n",
    "\n",
    "### From Python Sequences or NumPy Arrays\n",
    "\n",
    "#### Arrays: N-D Variables\n",
    "\n",
    "Variables can be constructed from any Python object that can be used to create a NumPy array or NumPy arrays directly.\n",
    "See [NumPy array creation](https://numpy.org/doc/stable/user/basics.creation.html) for details.\n",
    "Given such an object, an array variable can be created using [scipp.array](../../generated/functions/scipp.array.rst) (not to be confused with [data arrays](../../generated/classes/scipp.DataArray.rst)!)"
   ]
  },
  {
   "cell_type": "code",
   "execution_count": null,
   "metadata": {},
   "outputs": [],
   "source": [
    "import scipp as sc\n",
    "\n",
    "v1d = sc.array(dims=['x'], values=[1, 2, 3, 4])\n",
    "v2d = sc.array(dims=['x', 'y'], values=[[1, 2], [3, 4]])\n",
    "v3d = sc.array(dims=['x', 'y', 'z'], values=[[[1, 2], [3, 4]], [[5, 6], [7, 8]]])"
   ]
  },
  {
   "cell_type": "markdown",
   "metadata": {},
   "source": [
    "Alternatively, passing a NumPy array:"
   ]
  },
  {
   "cell_type": "code",
   "execution_count": null,
   "metadata": {},
   "outputs": [],
   "source": [
    "import numpy as np\n",
    "\n",
    "a = np.array([[1, 2], [3, 4]])\n",
    "v = sc.array(dims=['x', 'y'], values=a)"
   ]
  },
  {
   "cell_type": "markdown",
   "metadata": {},
   "source": [
    "Note that *both* the NumPy array and Python lists are copied into the Scipp variable which leads to some additional time and memory costs.\n",
    "See [Filling with a Value](#Filling-with-a-Value) for ways of creating variables without this overhead.\n",
    "\n",
    "The `dtype` of the variable is deduced automatically in the above cases.\n",
    "The unit is set to `scipp.units.dimensionless` if the `dtype` is a numeric type (e.g. integer, floating point) or `None` otherwise (e.g. strings).\n",
    "This applies to all creation functions, not just `scipp.array`."
   ]
  },
  {
   "cell_type": "code",
   "execution_count": null,
   "metadata": {},
   "outputs": [],
   "source": [
    "v"
   ]
  },
  {
   "cell_type": "markdown",
   "metadata": {},
   "source": [
    "The `dtype` can be overridden with the `dtype` argument (see [Data types](../../reference/dtype.rst)):"
   ]
  },
  {
   "cell_type": "code",
   "execution_count": null,
   "metadata": {},
   "outputs": [],
   "source": [
    "sc.array(dims=['x', 'y'], values=[[1, 2], [3, 4]], dtype='float64')"
   ]
  },
  {
   "cell_type": "markdown",
   "metadata": {},
   "source": [
    "The unit can and almost always should be set manually (see [unit](../../reference/units.rst)):"
   ]
  },
  {
   "cell_type": "code",
   "execution_count": null,
   "metadata": {},
   "outputs": [],
   "source": [
    "sc.array(dims=['x', 'y'], values=[[1, 2], [3, 4]], unit='m')"
   ]
  },
  {
   "cell_type": "markdown",
   "metadata": {},
   "source": [
    "Variances can be added using the `variances` keyword:"
   ]
  },
  {
   "cell_type": "code",
   "execution_count": null,
   "metadata": {},
   "outputs": [],
   "source": [
    "sc.array(\n",
    "    dims=['x', 'y'], values=[[1.0, 2.0], [3.0, 4.0]], variances=[[0.1, 0.2], [0.3, 0.4]]\n",
    ")"
   ]
  },
  {
   "cell_type": "markdown",
   "metadata": {},
   "source": [
    "<div class=\"alert alert-info\">\n",
    "\n",
    "**Note:**\n",
    "\n",
    "`scipp.array` takes *variances* as an input.\n",
    "If your input stores standard deviations, make sure to square them: `sc.array(..., variances=stddevs**2)`.\n",
    "\n",
    "Note further that the output in Jupyter notebooks shows standard deviations (`σ`).\n",
    "And converting variables to a plain string (`str(var)` or `print(var)`) shows variances.\n",
    "\n",
    "All of this also applies to all other creation functions.\n",
    "\n",
    "</div>\n",
    "\n",
    "#### Scalars: 0-D Variables\n",
    "\n",
    "Scalars are variables with no dimensions.\n",
    "See [0-D variables (scalars)](data-structures.ipynb#0-D-variables-(scalars)) for a more detailed definition.\n",
    "They can be constructed using, among other functions, [scipp.scalar](../../generated/functions/scipp.scalar.rst):"
   ]
  },
  {
   "cell_type": "code",
   "execution_count": null,
   "metadata": {},
   "outputs": [],
   "source": [
    "sc.scalar(3.41)"
   ]
  },
  {
   "cell_type": "markdown",
   "metadata": {},
   "source": [
    "`scipp.scalar` will always produce a scalar variable, even when passed a sequence like a list:"
   ]
  },
  {
   "cell_type": "code",
   "execution_count": null,
   "metadata": {},
   "outputs": [],
   "source": [
    "sc.scalar([3.41])"
   ]
  },
  {
   "cell_type": "markdown",
   "metadata": {},
   "source": [
    "In this case, it stores the Python list as-is in a Scipp variable.\n",
    "\n",
    "Multiplying or dividing a value by a unit also produces a scalar variable:"
   ]
  },
  {
   "cell_type": "code",
   "execution_count": null,
   "metadata": {},
   "outputs": [],
   "source": [
    "4.2 * sc.Unit('m')"
   ]
  },
  {
   "cell_type": "code",
   "execution_count": null,
   "metadata": {},
   "outputs": [],
   "source": [
    "4.2 / sc.Unit('m')"
   ]
  },
  {
   "cell_type": "markdown",
   "metadata": {},
   "source": [
    "### Generating Values\n",
    "\n",
    "#### Range-Like Variables\n",
    "\n",
    "1D ranges and similar sequences can be created directly in Scipp.\n",
    "[scipp.linspace](../../generated/functions/scipp.linspace.rst) creates arrays with regularly spaced values with a given number of elements.\n",
    "For example (click the stacked disks icon to see all values):"
   ]
  },
  {
   "cell_type": "code",
   "execution_count": null,
   "metadata": {},
   "outputs": [],
   "source": [
    "sc.linspace('x', start=-2, stop=5, num=6, unit='s')"
   ]
  },
  {
   "cell_type": "markdown",
   "metadata": {},
   "source": [
    "[scipp.arange](../../generated/functions/scipp.arange.rst) similarly creates arrays but with a given step size:"
   ]
  },
  {
   "cell_type": "code",
   "execution_count": null,
   "metadata": {},
   "outputs": [],
   "source": [
    "sc.arange('x', start=-2, stop=5, step=1.2, unit='K')"
   ]
  },
  {
   "cell_type": "markdown",
   "metadata": {},
   "source": [
    "`arange` does not include the stop value but `linspace` does by default.\n",
    "Please note that the caveats described in [NumPy's documentation](https://numpy.org/doc/stable/user/basics.creation.html#d-array-creation-functions) apply to Scipp as well.\n",
    "\n",
    "All range-like functions currently use NumPy to generate values and thus incur the same costs from copying as `scipp.array`.\n",
    "\n",
    "#### Filling with a Value\n",
    "\n",
    "There are a number opf functions to create N-D arrays with a fixed value, e.g. [scipp.zeros](../../generated/functions/scipp.zeros.rst) and [scipp.full](../../generated/functions/scipp.full.rst).\n",
    "`scipp.zeros` creates a variable of any number of dimensions filled with zeros:"
   ]
  },
  {
   "cell_type": "code",
   "execution_count": null,
   "metadata": {},
   "outputs": [],
   "source": [
    "sc.zeros(dims=['x', 'y'], shape=[3, 4])"
   ]
  },
  {
   "cell_type": "markdown",
   "metadata": {},
   "source": [
    "And `scipp.full` creates a variable filled with a given value:"
   ]
  },
  {
   "cell_type": "code",
   "execution_count": null,
   "metadata": {},
   "outputs": [],
   "source": [
    "sc.full(dims=['x', 'y'], shape=[3, 4], value=1.23)"
   ]
  },
  {
   "cell_type": "markdown",
   "metadata": {},
   "source": [
    "Every filling function has a corresponding function with a `_like` postfix, for instance [scipp.zeros_like](../../generated/functions/scipp.zeros_like.rst).\n",
    "These create a new variable (or data array) based on another variable (or data array):"
   ]
  },
  {
   "cell_type": "code",
   "execution_count": null,
   "metadata": {},
   "outputs": [],
   "source": [
    "v = sc.array(dims=['x', 'y'], values=[[1, 2], [3, 4]], unit='m')\n",
    "sc.zeros_like(v)"
   ]
  },
  {
   "cell_type": "markdown",
   "metadata": {},
   "source": [
    "\n",
    "### Special DTypes\n",
    "\n",
    "Scipp has a number of `dtypes` that require some conversion when creating variables.\n",
    "Notably [scipp.datetimes](../../generated/functions/scipp.datetimes.rst), [scipp.vectors](../../generated/functions/scipp.vectors.rst), and their scalar counterparts [scipp.datetime](../../generated/functions/scipp.datetime.rst), [scipp.vector](../../generated/functions/scipp.vector.rst).\n",
    "As well as types for spatial transformations in [scipp.spatial](../../generated/modules/scipp.spatial.rst).\n",
    "While variables of all of these dtypes can be constructed using `scipp.array` and `scipp.scalar`, the specialized functions offer more convenience and document their intent better.\n",
    "\n",
    "`scipp.datetimes` constructs an array of date-time-points.\n",
    "It can be called either with strings in ISO 8601 format:"
   ]
  },
  {
   "cell_type": "code",
   "execution_count": null,
   "metadata": {},
   "outputs": [],
   "source": [
    "sc.datetimes(dims=['time'], values=['2021-01-10T01:23:45', '2021-01-11T23:45:01'])"
   ]
  },
  {
   "cell_type": "markdown",
   "metadata": {},
   "source": [
    "Or with integers which encode the number of time units elapsed since the Unix epoc.\n",
    "See also [scipp.epoch](../../generated/functions/scipp.epoch.rst)."
   ]
  },
  {
   "cell_type": "code",
   "execution_count": null,
   "metadata": {},
   "outputs": [],
   "source": [
    "sc.datetimes(dims=['time'], values=[0, 1610288175], unit='s')"
   ]
  },
  {
   "cell_type": "markdown",
   "metadata": {},
   "source": [
    "Note that the unit is mandatory in the second case.\n",
    "\n",
    "It is also possible to create a range of datetimes:"
   ]
  },
  {
   "cell_type": "code",
   "execution_count": null,
   "metadata": {},
   "outputs": [],
   "source": [
    "sc.arange(\n",
    "    'time',\n",
    "    '2022-08-04T14:00:00',\n",
    "    '2022-08-04T14:04:00',\n",
    "    step=30 * sc.Unit('s'),\n",
    "    dtype='datetime64',\n",
    ")"
   ]
  },
  {
   "cell_type": "markdown",
   "metadata": {},
   "source": [
    "The current time according to the system clock can be accessed using"
   ]
  },
  {
   "cell_type": "code",
   "execution_count": null,
   "metadata": {},
   "outputs": [],
   "source": [
    "sc.datetime('now', unit='ms')"
   ]
  },
  {
   "cell_type": "markdown",
   "metadata": {},
   "source": [
    "Scipp stores date times relative to the Unix epoch which is available via a shorthand:"
   ]
  },
  {
   "cell_type": "code",
   "execution_count": null,
   "metadata": {},
   "outputs": [],
   "source": [
    "sc.epoch(unit='s')"
   ]
  },
  {
   "cell_type": "markdown",
   "metadata": {},
   "source": [
    "`scipp.vectors` creates an array of 3-vectors.\n",
    "It does so by converting a sequence or array with a length of 3 in its inner dimension:"
   ]
  },
  {
   "cell_type": "code",
   "execution_count": null,
   "metadata": {},
   "outputs": [],
   "source": [
    "sc.vectors(dims=['position'], values=[[1, 2, 3], [4, 5, 6]], unit='m')"
   ]
  },
  {
   "cell_type": "markdown",
   "metadata": {},
   "source": [
    "## Data Arrays\n",
    "\n",
    "A [DataArray](../../generated/classes/scipp.DataArray.rst)'s \"data\" is set to a [Variable](../../generated/classes/scipp.Variable.rst), and optionally a dict-like mapping, where the keys are the coordinates names and the values are coordinate variables.\n",
    "Typically we have coordinates with a name matching their dimension, and frequently each dimension of the data variable has a corresponding coordinate of the same name:\n"
   ]
  },
  {
   "cell_type": "code",
   "execution_count": null,
   "metadata": {},
   "outputs": [],
   "source": [
    "import scipp as sc\n",
    "\n",
    "x = sc.linspace('x', start=1.5, stop=3.0, num=2, unit='m')\n",
    "x_square = x * x\n",
    "time = sc.linspace('time', start=1.0, stop=5.0, num=4, unit='s')\n",
    "data = sc.array(dims=['x', 'time'], values=[[1, 2, 3, 4], [6, 7, 8, 9]], unit='K')\n",
    "da = sc.DataArray(data, coords={'x': x, 'time': time, 'x_square': x_square})\n",
    "da"
   ]
  },
  {
   "cell_type": "markdown",
   "metadata": {},
   "source": [
    "Less frequently used, similar to `coords`, a data array can be created with `masks`:"
   ]
  },
  {
   "cell_type": "code",
   "execution_count": null,
   "metadata": {},
   "outputs": [],
   "source": [
    "x = sc.linspace('x', start=1.5, stop=3.0, num=4, unit='m')\n",
    "m = sc.array(dims=['x'], values=[True, False, True, False])\n",
    "data = x**2\n",
    "sc.DataArray(data, coords={'x': x}, masks={'m': m})"
   ]
  },
  {
   "cell_type": "markdown",
   "metadata": {},
   "source": [
    "`coords` and `masks` are optional but the `data` must always be given.\n",
    "Note how the creation functions for `scipp.Variable` can be used to make the individual pieces of a data array.\n",
    "These variables are not copied into the data array.\n",
    "Rather, the data array contains a reference to the same underlying piece of memory.\n",
    "See [Ownership mechanism and readonly flags](../../reference/ownership-mechanism-and-readonly-flags.rst) for details.\n",
    "\n",
    "## Dataset\n",
    "\n",
    "[Datasets](../../generated/classes/scipp.Dataset.rst) are constructed by combining multiple data arrays or variables.\n",
    "For instance, using the previously defined variables:"
   ]
  },
  {
   "cell_type": "code",
   "execution_count": null,
   "metadata": {},
   "outputs": [],
   "source": [
    "sc.Dataset({'data1': data, 'data2': -data}, coords={'x': x})"
   ]
  },
  {
   "cell_type": "markdown",
   "metadata": {},
   "source": [
    "Or from data arrays:"
   ]
  },
  {
   "cell_type": "code",
   "execution_count": null,
   "metadata": {},
   "outputs": [],
   "source": [
    "da1 = sc.DataArray(data, coords={'x': x}, masks={'m': m})\n",
    "da2 = sc.DataArray(-data, coords={'x': x})\n",
    "sc.Dataset({'data1': da1, 'data2': da2})"
   ]
  },
  {
   "cell_type": "markdown",
   "metadata": {},
   "source": [
    "## Any Data Structure\n",
    "\n",
    "Any of `scipp.Variable`, `scipp.DataArray`, and `scipp.Dataset` and be created using the methods described in the following subsections.\n",
    "\n",
    "### From Scipp HDF5 Files\n",
    "\n",
    "Scipp has a custom file format based on HDF5 which can store data structures.\n",
    "See [Reading and Writing Files](../reading-and-writing-files.rst) for details.\n",
    "In short, `scipp.io.load_hdf5` loads whatever Scipp object is stored in a given file.\n",
    "For demonstration purposes, we use a `BytesIO` object here. But the same code can be used by passing a string as a file name to `save_hdf5` and `load_hdf5`."
   ]
  },
  {
   "cell_type": "code",
   "execution_count": null,
   "metadata": {},
   "outputs": [],
   "source": [
    "from io import BytesIO\n",
    "\n",
    "buffer = BytesIO()\n",
    "v = sc.arange('x', start=1.0, stop=5.0, step=1.0, unit='s')\n",
    "v.save_hdf5(buffer)\n",
    "sc.io.load_hdf5(buffer)"
   ]
  },
  {
   "cell_type": "markdown",
   "metadata": {},
   "source": [
    "### From Other Libraries\n",
    "\n",
    "Scipp's data structures can be converted to and from certain other structures using the functions in the [compat](../../generated/modules/scipp.compat.rst) module.\n",
    "For example, `scipp.compat.from_pandas` can convert a Pandas dataframe into a Scipp dataset:"
   ]
  },
  {
   "cell_type": "code",
   "execution_count": null,
   "metadata": {},
   "outputs": [],
   "source": [
    "import pandas as pd\n",
    "\n",
    "df = pd.DataFrame({'x': 10 * np.arange(5), 'y': np.linspace(0.1, 0.5, 5)})\n",
    "df"
   ]
  },
  {
   "cell_type": "code",
   "execution_count": null,
   "metadata": {
    "tags": []
   },
   "outputs": [],
   "source": [
    "sc.compat.from_pandas(df)"
   ]
  },
  {
   "cell_type": "markdown",
   "metadata": {},
   "source": [
    "### From NeXus Files\n",
    "\n",
    "[NeXus](https://www.nexusformat.org/) is an HDF5-based file format neutron, x-ray, and muon science.\n",
    "[Scippnexus](https://scipp.github.io/scippnexus/) is a package that allows loading NeXus files into Scipp objects with a simple h5py-like interface.\n",
    "For example, the following code loads the first detector bank into a data array:\n",
    "```python\n",
    "import scippnexus as snx\n",
    "with snx.File(filename) as f:\n",
    "    da = f['entry/bank0'][...]\n",
    "```\n",
    "See the documentation of Scippnexus linked above for more information."
   ]
  }
 ],
 "metadata": {
  "kernelspec": {
   "display_name": "Python 3 (ipykernel)",
   "language": "python",
   "name": "python3"
  },
  "language_info": {
   "codemirror_mode": {
    "name": "ipython",
    "version": 3
   },
   "file_extension": ".py",
   "mimetype": "text/x-python",
   "name": "python",
   "nbconvert_exporter": "python",
   "pygments_lexer": "ipython3"
  }
 },
 "nbformat": 4,
 "nbformat_minor": 4
}
