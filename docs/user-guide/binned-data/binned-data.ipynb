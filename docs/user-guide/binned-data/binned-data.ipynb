{
 "cells": [
  {
   "cell_type": "markdown",
   "metadata": {},
   "source": [
    "# Binned Data\n",
    "\n",
    "## Introduction\n",
    "\n",
    "Scipp supports features for *binning* scattered data.\n",
    "\n",
    "<div class=\"alert alert-info\">\n",
    "\n",
    "**Terminology**\n",
    "    \n",
    "Scipp distinguishes **histogrammed** data from **binned** data:\n",
    "\n",
    "- Histogrammed data refers to regular dense arrays of, e.g., floating-point values with an associated bin-edge coordinate.\n",
    "- Binned data refers to the precursor of histogrammed data, i.e., each bin contains a \"list\" of contributing events or values.\n",
    "  Binned data can be converted into a histogram by computing the sum or mean over all events or values in a bin.\n",
    "    \n",
    "</div>\n",
    "\n",
    "Scattered data in the context of binning refers to data values irregularly placed in, e.g., space or time.\n",
    "Binning lets us:\n",
    "\n",
    "- Map a table of position-based data to an X-Y-Z grid.\n",
    "- Map a table of position-based data to an angle such as $\\theta$.\n",
    "- Map event time stamps to time bins.\n",
    "\n",
    "The key feature here is that *binning does not actually histogram or resample data*.\n",
    "Data is kept in its original form.\n",
    "Binning provides a wrapper with a coordinate system more adequate for working with the scientific data.\n",
    "\n",
    "## From scattered to binned data\n",
    "\n",
    "We outline the underlying concepts based on a simple example.\n",
    "The scattered raw data is represented as a table with meta data for every data point (event):"
   ]
  },
  {
   "cell_type": "code",
   "execution_count": null,
   "metadata": {},
   "outputs": [],
   "source": [
    "import numpy as np\n",
    "import matplotlib.pyplot as plt\n",
    "import scipp as sc\n",
    "\n",
    "np.random.seed(1) # Fixed for reproducibility"
   ]
  },
  {
   "cell_type": "markdown",
   "metadata": {},
   "source": [
    "Consider a list of measurements at various \"points\" in space.\n",
    "Here we restrict ourselves to the X-Y plane for visualization purposes:"
   ]
  },
  {
   "cell_type": "code",
   "execution_count": null,
   "metadata": {},
   "outputs": [],
   "source": [
    "N = 50\n",
    "values = 10*np.random.rand(N)\n",
    "data = sc.DataArray(\n",
    "    data=sc.Variable(dims=['position'], unit=sc.units.counts, values=values, variances=values),\n",
    "    coords={\n",
    "        'position':sc.Variable(dims=['position'], values=['site-{}'.format(i) for i in range(N)]),\n",
    "        'x':sc.Variable(dims=['position'], unit=sc.units.m, values=np.random.rand(N)),\n",
    "        'y':sc.Variable(dims=['position'], unit=sc.units.m, values=np.random.rand(N))})\n",
    "data"
   ]
  },
  {
   "cell_type": "markdown",
   "metadata": {},
   "source": [
    "For every point we measured at the auxiliary coordinates `'x'` and `'y'` give the position in the X-Y plane.\n",
    "These are *not* dimension-coordinates, since our measurements are *not* on a 2-D grid, but rather points with an irregular distribution.\n",
    "`data` is literally a 1-D table of measurements:"
   ]
  },
  {
   "cell_type": "code",
   "execution_count": null,
   "metadata": {},
   "outputs": [],
   "source": [
    "sc.table(data)"
   ]
  },
  {
   "cell_type": "markdown",
   "metadata": {},
   "source": [
    "We can plot this data:"
   ]
  },
  {
   "cell_type": "code",
   "execution_count": null,
   "metadata": {},
   "outputs": [],
   "source": [
    "sc.plot(data)"
   ]
  },
  {
   "cell_type": "markdown",
   "metadata": {},
   "source": [
    "The `'position'` dimension is not a continuous dimension but essentially just a row in our table.\n",
    "In practice, such a figure and this representation of data in general may therefore not be very useful.\n",
    "\n",
    "As an alternative view of our data we can create a scatter plot.\n",
    "We do this explicitly here to demonstrate how the content of `data` is connected to elements of the figure:"
   ]
  },
  {
   "cell_type": "code",
   "execution_count": null,
   "metadata": {},
   "outputs": [],
   "source": [
    "fig, ax = plt.subplots()\n",
    "scatter = ax.scatter(\n",
    "    x=data.coords['x'].values,\n",
    "    y=data.coords['y'].values,\n",
    "    c=data.values)\n",
    "ax.set_xlabel('x [{}]'.format(data.coords['x'].unit))\n",
    "ax.set_ylabel('y [{}]'.format(data.coords['y'].unit))\n",
    "cbar = plt.colorbar(scatter)\n",
    "cbar.set_label(\"[{}]\".format(data.unit))\n",
    "fig"
   ]
  },
  {
   "cell_type": "markdown",
   "metadata": {},
   "source": [
    "This shows the distribution in space, but for real datasets with millions of points this may not be convenient.\n",
    "Furthermore, operating with scattered data is often inconvenient and may require knowledge of the underlying representation.\n",
    "\n",
    "We can now use `scipp.bin` to provide a more accessible wrapper for our data:"
   ]
  },
  {
   "cell_type": "code",
   "execution_count": null,
   "metadata": {},
   "outputs": [],
   "source": [
    "xbins = sc.Variable(dims=['x'], unit=sc.units.m, values=[0.1,0.5,0.9])\n",
    "ybins = sc.Variable(dims=['y'], unit=sc.units.m, values=[0.1,0.3,0.5,0.7,0.9])\n",
    "binned = sc.bin(data, edges=[ybins, xbins])\n",
    "binned"
   ]
  },
  {
   "cell_type": "markdown",
   "metadata": {},
   "source": [
    "`binned` is a 2-D data array, but it contains the original table of \"unaligned\" data:"
   ]
  },
  {
   "cell_type": "code",
   "execution_count": null,
   "metadata": {},
   "outputs": [],
   "source": [
    "binned.events"
   ]
  },
  {
   "cell_type": "markdown",
   "metadata": {},
   "source": [
    "The binning procedure based on bin edges for `'x'` and `'y'` is *not* performing the actual histogramming step.\n",
    "However, since its dimensions are defined by the bin-edge coordinates for `'x'` and `'y'`, we will see below that it behaves much like normal dense data for operations such as slicing.\n",
    "\n",
    "We create another figure to better illustrate the structure of `binned`:"
   ]
  },
  {
   "cell_type": "code",
   "execution_count": null,
   "metadata": {},
   "outputs": [],
   "source": [
    "fig, ax = plt.subplots()\n",
    "buffer = binned.events\n",
    "scatter = ax.scatter(\n",
    "    x=buffer.coords['x'].values,\n",
    "    y=buffer.coords['y'].values,\n",
    "    c=buffer.values)\n",
    "ax.set_xlabel('x [{}]'.format(binned.coords['x'].unit))\n",
    "ax.set_ylabel('y [{}]'.format(binned.coords['y'].unit))\n",
    "ax.set_xticks(binned.coords['x'].values)\n",
    "ax.set_yticks(binned.coords['y'].values)\n",
    "ax.grid()\n",
    "cbar = fig.colorbar(scatter)\n",
    "cbar.set_label(\"[{}]\".format(data.unit))\n",
    "fig"
   ]
  },
  {
   "cell_type": "markdown",
   "metadata": {},
   "source": [
    "This is essentially the same figure as the scatter plot for the original `data`.\n",
    "The differences are:\n",
    "\n",
    "- A \"grid\" (the bin edges) that is stored alongside the data.\n",
    "- All points outside the limits of the specified bin edges have been dropped\n",
    "\n",
    "`binned` can now directly be histogrammed, without the need for specifying bin boundaries.\n",
    "This is done by calling `sum` of the `bins` property, summing the data array within each bin:"
   ]
  },
  {
   "cell_type": "code",
   "execution_count": null,
   "metadata": {},
   "outputs": [],
   "source": [
    "sc.plot(binned.bins.sum())"
   ]
  },
  {
   "cell_type": "markdown",
   "metadata": {},
   "source": [
    "Here `sum` performs histogramming for all \"binned\" dimensions, in this case `x` and `y`.\n",
    "The resulting values in the X-Y bins are the counts accumulated from measurements at all points falling in a given bucket.\n",
    "\n",
    "The `plot` function automatically resamples and histograms when binned data is supplied:"
   ]
  },
  {
   "cell_type": "code",
   "execution_count": null,
   "metadata": {},
   "outputs": [],
   "source": [
    "# Defining resolution not required, but in this example with very few events it improves plot readability\n",
    "sc.plot(binned, resolution=10)"
   ]
  },
  {
   "cell_type": "markdown",
   "metadata": {},
   "source": [
    "## Working with binned data\n",
    "\n",
    "### Slicing\n",
    "\n",
    "Binned data can be sliced as usual, e.g., to create plots of subregions:"
   ]
  },
  {
   "cell_type": "code",
   "execution_count": null,
   "metadata": {},
   "outputs": [],
   "source": [
    "sc.plot(binned['x', 0].bins.sum())"
   ]
  },
  {
   "cell_type": "markdown",
   "metadata": {},
   "source": [
    "Just like slicing dense variables, a slice of binned data \"drops\" all unaligned data falling into areas outside the slice:"
   ]
  },
  {
   "cell_type": "code",
   "execution_count": null,
   "metadata": {},
   "outputs": [],
   "source": [
    "s0 = binned['x', 0]\n",
    "s1 = binned['x', 1]\n",
    "print(f'total events: {sc.sum(binned.bins.sum().data)}')\n",
    "print(f'events x=0:   {sc.sum(s0.bins.sum().data)}')\n",
    "print(f'events x=1:   {sc.sum(s1.bins.sum().data)}')"
   ]
  },
  {
   "cell_type": "markdown",
   "metadata": {},
   "source": [
    "This can provide an intuitive way of \"filtering\" lists of data based on some property of the list items."
   ]
  },
  {
   "cell_type": "markdown",
   "metadata": {},
   "source": [
    "### Masking\n",
    "\n",
    "Masks can be defined for the unaligned data array, as well as the realigned wrapper.\n",
    "This gives fine-grained and intuitive control, for e.g., masking invalid list entries on the one hand, and excluding regions in space on the other hand, without the need of manually determining which list entries fall into the exclusion zone.\n",
    "\n",
    "We define two masks one in the X-Y plane and one for positions.\n",
    "The position mask is added to the `masks` dict of the `bins` property:"
   ]
  },
  {
   "cell_type": "code",
   "execution_count": null,
   "metadata": {},
   "outputs": [],
   "source": [
    "x_y_mask = sc.array(\n",
    "    dims=binned.dims,\n",
    "    values=np.array([[True, False], [True, False], [False, False], [False, False]])\n",
    ")\n",
    "binned.masks['exclude'] = x_y_mask\n",
    "binned.bins.masks['broken_sensor'] = binned.bins.coords['y'] > 0.6 * sc.Unit('m')"
   ]
  },
  {
   "cell_type": "markdown",
   "metadata": {},
   "source": [
    "As usual, more masks can be added if required, and masks can be removed as long as no reduction operation such as summing or histogramming took place.\n",
    "\n",
    "We can then plot the result.\n",
    "The mask of the underlying unaligned data is applied during the histogram step, i.e., masked positions are excluded.\n",
    "The mask of the binned wrapper is indicated in the plot and carried through the histogram step.\n",
    "Make sure to compare this figure with the one we obtained earlier, before masking, and note how the values of the un-masked X-Y bins have changed due to masked positions of the underlying unaligned data:"
   ]
  },
  {
   "cell_type": "code",
   "execution_count": null,
   "metadata": {},
   "outputs": [],
   "source": [
    "sc.plot(binned, resolution=10)"
   ]
  },
  {
   "cell_type": "markdown",
   "metadata": {},
   "source": [
    "### Arithmetic operations\n",
    "\n",
    "A number of [arithmetic operations and other operations](computation.ipynb) for binned data arrays are supported."
   ]
  },
  {
   "cell_type": "markdown",
   "metadata": {},
   "source": [
    "### Manipulating bin-based and event-based metadata\n",
    "\n",
    "#### Convert bin-based coordinate into event-based coordinate\n",
    "\n",
    "Consider binned data as above, but with a coordinate that has no corresponding event-coord.\n",
    "This could be the case, e.g., with a `time` dimension that corresponds to groups rather than bins:"
   ]
  },
  {
   "cell_type": "code",
   "execution_count": null,
   "metadata": {},
   "outputs": [],
   "source": [
    "da = binned.copy()\n",
    "del da.coords['y']\n",
    "del da.bins.coords['y']\n",
    "da = da.rename_dims({'y':'time'})\n",
    "da.coords['time'] = sc.array(dims=['time'], unit='s', values=np.arange(4))\n",
    "da"
   ]
  },
  {
   "cell_type": "markdown",
   "metadata": {},
   "source": [
    "If we, e.g., intend to erase the grouping dimension, we may nevertheless want to preserve the `time` information.\n",
    "This can be achieve in 2 simple steps, (1) creating an empty event-coord and (2) using the `[...]` syntax to call `__setitem__` from the bin-coord:"
   ]
  },
  {
   "cell_type": "code",
   "execution_count": null,
   "metadata": {},
   "outputs": [],
   "source": [
    "da.events.coords['time'] = sc.empty(sizes=da.events.sizes, dtype='int64', unit='s')\n",
    "da.bins.coords['time'][...] = da.coords['time']\n",
    "sc.table(binned.events)"
   ]
  },
  {
   "cell_type": "markdown",
   "metadata": {},
   "source": [
    "### Plotting higher dimensions\n",
    "\n",
    "On-the-fly histogramming is also supported for plotting binned data with more than 2 dimensions:"
   ]
  },
  {
   "cell_type": "code",
   "execution_count": null,
   "metadata": {},
   "outputs": [],
   "source": [
    "N = 5000\n",
    "values = 10*np.random.rand(N)\n",
    "data3d = sc.DataArray(\n",
    "    data=sc.Variable(dims=['position'], unit=sc.units.counts, values=values, variances=values),\n",
    "    coords={\n",
    "        'position':sc.Variable(dims=['position'], values=['site-{}'.format(i) for i in range(N)]),\n",
    "        'x':sc.Variable(dims=['position'], unit=sc.units.m, values=np.random.rand(N)),\n",
    "        'y':sc.Variable(dims=['position'], unit=sc.units.m, values=np.random.rand(N)),\n",
    "        'z':sc.Variable(dims=['position'], unit=sc.units.m, values=np.random.rand(N))})\n",
    "zbins = sc.Variable(dims=['z'], unit=sc.units.m, values=np.linspace(0.1, 0.9, 20))\n",
    "binned = sc.bin(data3d, edges=[zbins, ybins, xbins])\n",
    "sc.plot(binned, resolution=10)"
   ]
  }
 ],
 "metadata": {
  "kernelspec": {
   "display_name": "Python 3",
   "language": "python",
   "name": "python3"
  },
  "language_info": {
   "codemirror_mode": {
    "name": "ipython",
    "version": 3
   },
   "file_extension": ".py",
   "mimetype": "text/x-python",
   "name": "python",
   "nbconvert_exporter": "python",
   "pygments_lexer": "ipython3",
   "version": "3.7.10"
  }
 },
 "nbformat": 4,
 "nbformat_minor": 4
}
