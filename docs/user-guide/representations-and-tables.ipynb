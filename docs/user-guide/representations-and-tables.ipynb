{
 "cells": [
  {
   "cell_type": "markdown",
   "metadata": {},
   "source": [
    "# Representations and Tables\n",
    "\n",
    "Scipp provides a number of options for visualizing the structure and contents of variables, data arrays, and datasets:\n",
    "\n",
    "- [scipp.to_html](../generated/functions/scipp.to_html.rst) produces an HTML representation.\n",
    "  This is also bound to `_repr_html_`, i.e., Jupyter will display this when the name of a Scipp object is typed at the end of a cell.\n",
    "- [scipp.show](../generated/functions/scipp.show.rst) draws an SVG representation of the contained items and their shapes.\n",
    "- [scipp.table](../generated/functions/scipp.table.rst) outputs a table representation of 1-D data.\n",
    "- `str` and `repr` produce a summary as a string.\n",
    "\n",
    "String formatting is always possible, but the outputs of `to_html`, `show`, and `table` are designed for Jupyter notebooks.\n",
    "\n",
    "While the outputs are mostly self-explanatory we discuss some details below.\n",
    "\n",
    "## HTML representation\n",
    "\n",
    "[scipp.to_html](../generated/functions/scipp.to_html.rst) is used to define `_repr_html_`.\n",
    "This special property is used by Jupyter in place of `__repr__`."
   ]
  },
  {
   "cell_type": "code",
   "execution_count": null,
   "metadata": {},
   "outputs": [],
   "source": [
    "import numpy as np\n",
    "import scipp as sc"
   ]
  },
  {
   "cell_type": "code",
   "execution_count": null,
   "metadata": {
    "tags": []
   },
   "outputs": [],
   "source": [
    "x = sc.arange('x', 2.0)\n",
    "y = sc.arange('y', 4.0, unit='m')\n",
    "labels = sc.arange('y', start=7.0, stop=10.0)\n",
    "ds = sc.Dataset(\n",
    "    data={\n",
    "        'a': sc.array(\n",
    "            dims=['y', 'x'],\n",
    "            values=np.random.random((3, 2)),\n",
    "            variances=0.1 * np.random.random((3, 2)),\n",
    "            unit='angstrom',\n",
    "        )\n",
    "    },\n",
    "    coords={'x': x, 'y': y, 'y_label': labels},\n",
    ")\n",
    "ds['b'] = ds['a']"
   ]
  },
  {
   "cell_type": "markdown",
   "metadata": {},
   "source": [
    "Simply typing the name of a variable, data array, or dataset will show the HTML representation:"
   ]
  },
  {
   "cell_type": "code",
   "execution_count": null,
   "metadata": {
    "tags": []
   },
   "outputs": [],
   "source": [
    "ds"
   ]
  },
  {
   "cell_type": "markdown",
   "metadata": {},
   "source": [
    "The columns are\n",
    "\n",
    "1. Name of the data item, coordinate, etc. For coordinates, a bold font indicates that the coordinate is aligned.\n",
    "2. Dimensions.\n",
    "3. DType.\n",
    "4. Unit.\n",
    "5. Values and variances.\n",
    "\n",
    "The reported size is only an estimate.\n",
    "It includes the actual arrays of values as well as (some of) the internal memory used by variables, etc.\n",
    "See, e.g. [scipp.Variable.underlying_size](https://scipp.github.io/generated/classes/scipp.Variable.html#scipp.Variable.underlying_size)."
   ]
  },
  {
   "cell_type": "markdown",
   "metadata": {},
   "source": [
    "<div class=\"alert alert-warning\">\n",
    "    <b>WARNING:</b>\n",
    "\n",
    "IPython (and thus Jupyter) has an [Output caching system](https://ipython.readthedocs.io/en/stable/interactive/reference.html?highlight=previous#output-caching-system).\n",
    "By default this keeps the last 1000 cell outputs.\n",
    "In the above case this is `ds` (not the displayed HTML, but the object itself).\n",
    "If such cell outputs are large then this output cache can consume enormous amounts of memory.\n",
    "\n",
    "Note that `del ds` will *not* release the memory, since the IPython output cache still holds a reference to the same object.\n",
    "See [this FAQ entry](../getting-started/faq.rst#scipp-is-using-more-and-more-memory-the-jupyter-kernel-crashes) for clearing or disabling this caching.\n",
    "\n",
    "</div>"
   ]
  },
  {
   "cell_type": "markdown",
   "metadata": {},
   "source": [
    "Note that (as usual) Jupyter only shows the last variable mentioned in a cell:"
   ]
  },
  {
   "cell_type": "code",
   "execution_count": null,
   "metadata": {
    "tags": []
   },
   "outputs": [],
   "source": [
    "a = 1\n",
    "ds\n",
    "a"
   ]
  },
  {
   "cell_type": "markdown",
   "metadata": {},
   "source": [
    "In this case, `to_html` can be used to retain the HTML view, e.g., to show multiple objects in a single cell:"
   ]
  },
  {
   "cell_type": "code",
   "execution_count": null,
   "metadata": {
    "tags": []
   },
   "outputs": [],
   "source": [
    "sc.to_html(ds['a'])\n",
    "sc.to_html(ds['b'])"
   ]
  },
  {
   "cell_type": "markdown",
   "metadata": {},
   "source": [
    "Typing the Scipp module name at the end of a cell yields an HTML view of all Scipp objects (variables, data arrays, and datasets):"
   ]
  },
  {
   "cell_type": "code",
   "execution_count": null,
   "metadata": {
    "tags": []
   },
   "outputs": [],
   "source": [
    "sc"
   ]
  },
  {
   "cell_type": "markdown",
   "metadata": {},
   "source": [
    "## SVG representation\n",
    "\n",
    "[scipp.show](../generated/functions/scipp.show.rst) renders Scipp objects to an image that shows the relationships between coordinates and data.\n",
    "It should be noted that if a dimension extent is large, `show` will truncate it to avoid generation of massive and unreadable SVGs.\n",
    "Objects with more than three dimensions are not supported and will result in an error message.\n",
    "\n",
    "Compare the image below with the HTML representation to see what the individual components represent.\n",
    "Names of dataset items and coordinates are shown in large letters.\n",
    "And dimension names are shown in smaller (rotated for y) letters."
   ]
  },
  {
   "cell_type": "code",
   "execution_count": null,
   "metadata": {
    "tags": []
   },
   "outputs": [],
   "source": [
    "sc.show(ds)"
   ]
  },
  {
   "cell_type": "markdown",
   "metadata": {},
   "source": [
    "Note that y has four blocks and y_label and the data have 3 in the y-dimension.\n",
    "This indicates that `y` is a bin-edge coordinate.\n",
    "\n",
    "`scipp.show` also works with binned data.\n",
    "Here, the smaller blocks to the right represent the events, i.e., the bin contents.\n",
    "Their length does not mean anything as the size of bins can vary."
   ]
  },
  {
   "cell_type": "code",
   "execution_count": null,
   "metadata": {
    "tags": []
   },
   "outputs": [],
   "source": [
    "sc.show(sc.data.binned_xy(100, 3, 2))"
   ]
  },
  {
   "cell_type": "markdown",
   "metadata": {},
   "source": [
    "## Table representation\n",
    "\n",
    "[scipp.table](../generated/functions/scipp.table.rst) arranges Scipp objects in a table.\n",
    "If only works with one-dimensional objects, so we have to use slicing to display our higher dimensional example:"
   ]
  },
  {
   "cell_type": "code",
   "execution_count": null,
   "metadata": {
    "tags": []
   },
   "outputs": [],
   "source": [
    "sc.table(ds['y', 0])"
   ]
  },
  {
   "cell_type": "markdown",
   "metadata": {},
   "source": [
    "In the following, the y column is longer than the other columns because `y` is a bin-edge coordinate."
   ]
  },
  {
   "cell_type": "code",
   "execution_count": null,
   "metadata": {
    "tags": []
   },
   "outputs": [],
   "source": [
    "sc.table(ds['x', 0])"
   ]
  },
  {
   "cell_type": "markdown",
   "metadata": {},
   "source": [
    "## String-representation\n",
    "\n",
    "All Scipp objects can be converted to strings:"
   ]
  },
  {
   "cell_type": "code",
   "execution_count": null,
   "metadata": {
    "tags": []
   },
   "outputs": [],
   "source": [
    "print(ds)"
   ]
  },
  {
   "cell_type": "markdown",
   "metadata": {},
   "source": [
    "The format of variables can be controlled using f-strings or [format](https://docs.python.org/3/library/functions.html?highlight=format#format).\n",
    "For example, the default format shows the first 2 and last 2 elements:"
   ]
  },
  {
   "cell_type": "code",
   "execution_count": null,
   "metadata": {
    "tags": []
   },
   "outputs": [],
   "source": [
    "var = sc.linspace('x', 0.0, 1.0, 11, unit='m')\n",
    "f'{var}'"
   ]
  },
  {
   "cell_type": "markdown",
   "metadata": {},
   "source": [
    "Use `<` to show the first 4 elements:"
   ]
  },
  {
   "cell_type": "code",
   "execution_count": null,
   "metadata": {
    "tags": []
   },
   "outputs": [],
   "source": [
    "f'{var:<}'"
   ]
  },
  {
   "cell_type": "markdown",
   "metadata": {},
   "source": [
    "Use `#n` to show `n` elements instead of 4:"
   ]
  },
  {
   "cell_type": "code",
   "execution_count": null,
   "metadata": {
    "tags": []
   },
   "outputs": [],
   "source": [
    "f'{var:#5}'"
   ]
  },
  {
   "cell_type": "markdown",
   "metadata": {},
   "source": [
    "Configure how elements are formatted.\n",
    "Note the double colon!\n",
    "The options after the first colon control how the variable itself is formatted.\n",
    "Options after the second are forwarded to the elements and can be anything that the element type (in this case `float`) supports."
   ]
  },
  {
   "cell_type": "code",
   "execution_count": null,
   "metadata": {
    "tags": []
   },
   "outputs": [],
   "source": [
    "f'{var::.1e}'"
   ]
  },
  {
   "cell_type": "markdown",
   "metadata": {},
   "source": [
    "Or combine all of the above:"
   ]
  },
  {
   "cell_type": "code",
   "execution_count": null,
   "metadata": {
    "tags": []
   },
   "outputs": [],
   "source": [
    "f'{var:<#5:.1e}'"
   ]
  },
  {
   "cell_type": "markdown",
   "metadata": {},
   "source": [
    "In addition, Variables have a compact string format:"
   ]
  },
  {
   "cell_type": "code",
   "execution_count": null,
   "metadata": {
    "tags": []
   },
   "outputs": [],
   "source": [
    "var = sc.scalar(1.2345, variance=0.01, unit='kg')\n",
    "f'{var:c}'"
   ]
  },
  {
   "cell_type": "markdown",
   "metadata": {},
   "source": [
    "Note that this is primarily intended for scalar variables and may produce hard to read outputs otherwise.\n",
    "\n",
    "## Format string syntax\n",
    "\n",
    "The full syntax of format specifiers is:\n",
    "```\n",
    "format_spec ::= [scipp_spec] [\":\" nested_spec]\n",
    "nested_spec ::= .*\n",
    "scipp_spec  ::= [selection][\"#\" length][type]\n",
    "selection   ::= \"^\" | \"<\" | \">\"\n",
    "length      ::= digit+\n",
    "type        ::= \"c\"\n",
    "```\n",
    "\n",
    "*`selection`* controls how the array is sliced:\n",
    "\n",
    "| selection | Meaning |\n",
    "|-----------|---------|\n",
    "| `^` | Use elements from the beginning and end as if by `var[:length//2]`, `...`, `var[-length//2:]`. |\n",
    "| `<` | Use elements from the beginning as if by `var[:length]`, `...`. |\n",
    "| `>` | Use elements from the end as if by `...`, `var[-length]`. |\n",
    "| None | Same as `^` |\n",
    "\n",
    "*`length`* controls how many elements are shown.\n",
    "It defaults to 4.\n",
    "\n",
    "*`type`* selects between different formatters:\n",
    "\n",
    "| type | Meaning |\n",
    "|------|---------|\n",
    "| `c` | Compact formatter. Does not support other options like `selection` or `nested_spec`. |\n",
    "| None | Default formatter which shows the variable with all metadata and data as determined by the other options. |\n",
    "\n",
    "*`nested_spec`* is used to format the array elements.\n",
    "It can be anything that the dtype's formatter supports.\n",
    "Note that it always requires an additional colon to separate it from the `scipp_spec`.\n",
    "See in particular the [standard library specification](https://docs.python.org/3/library/string.html?highlight=string#format-specification-mini-language)."
   ]
  }
 ],
 "metadata": {
  "kernelspec": {
   "display_name": "Python 3 (ipykernel)",
   "language": "python",
   "name": "python3"
  },
  "language_info": {
   "codemirror_mode": {
    "name": "ipython",
    "version": 3
   },
   "file_extension": ".py",
   "mimetype": "text/x-python",
   "name": "python",
   "nbconvert_exporter": "python",
   "pygments_lexer": "ipython3"
  }
 },
 "nbformat": 4,
 "nbformat_minor": 4
}
