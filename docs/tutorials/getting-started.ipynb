{
 "cells": [
  {
   "cell_type": "markdown",
   "id": "6c573579-f097-4de6-a59d-5178423dd3e2",
   "metadata": {
    "tags": []
   },
   "source": [
    "# Getting Started\n",
    "## Importing Scipp\n",
    "\n",
    "The canonical way to import scipp is as `sc`:"
   ]
  },
  {
   "cell_type": "code",
   "execution_count": null,
   "id": "790d1705-22b2-4464-8184-6c30da3bd8e1",
   "metadata": {},
   "outputs": [],
   "source": [
    "import scipp as sc"
   ]
  },
  {
   "cell_type": "markdown",
   "id": "b7b28d28-a1fd-4a3f-a8ed-23cbf4a23eea",
   "metadata": {
    "tags": []
   },
   "source": [
    "## Physical Units\n",
    "\n",
    "Scipp supports physical units, which can be used to define physical quantities.\n",
    "We can do so, e.g., by multiplying a number with a unit:"
   ]
  },
  {
   "cell_type": "code",
   "execution_count": null,
   "id": "41d93555-b91c-44b8-b756-6379ba7313da",
   "metadata": {},
   "outputs": [],
   "source": [
    "length = 1.2 * sc.Unit('m')\n",
    "length"
   ]
  },
  {
   "cell_type": "markdown",
   "id": "91c98b47-a517-420b-878c-e50c5980fdbb",
   "metadata": {},
   "source": [
    "In the above HTML representation the empty tuple `()` indicates the dimensions of the variable we created.\n",
    "Here it is 0-D, i.e., a single value.\n",
    "\n",
    "The unit is not simply a string.\n",
    "We can convert to a different unit and let scipp handle the conversion of the qunatity's value:"
   ]
  },
  {
   "cell_type": "code",
   "execution_count": null,
   "id": "7ec641d3-db52-4b76-845a-95e1cbdc3f7c",
   "metadata": {},
   "outputs": [],
   "source": [
    "length.to(unit='mm')"
   ]
  },
  {
   "cell_type": "markdown",
   "id": "0961e92f-1a67-4383-a954-dfcfe659a998",
   "metadata": {},
   "source": [
    "Similarly, operations between two quantities yield the expected unit:"
   ]
  },
  {
   "cell_type": "code",
   "execution_count": null,
   "id": "10a838bb-5ea4-4d05-8ec5-1c66bd8fd18b",
   "metadata": {},
   "outputs": [],
   "source": [
    "speed = 10. * sc.Unit('m/s')\n",
    "length / speed"
   ]
  },
  {
   "cell_type": "markdown",
   "id": "e47256a2-0bac-4457-a8a7-d97f998758c8",
   "metadata": {},
   "source": [
    "The unit is an invaluable safeguard against errors:"
   ]
  },
  {
   "cell_type": "code",
   "execution_count": null,
   "id": "dad2fcef-4825-447e-9c65-aaf792960750",
   "metadata": {
    "tags": [
     "raises-exception"
    ]
   },
   "outputs": [],
   "source": [
    "length + speed  # will raise an exception"
   ]
  },
  {
   "cell_type": "markdown",
   "id": "8ba67dc9-bb7c-4fc4-9718-90aef3f097f8",
   "metadata": {},
   "source": [
    "With the above we can use scipp as a safer version of a \"calculator\"."
   ]
  },
  {
   "cell_type": "markdown",
   "id": "85832186-c294-4976-a9e0-ece74e7be4a0",
   "metadata": {},
   "source": [
    "## Physical Constants\n",
    "\n",
    "Scipp provides physical constants in the [scipp.constants](https://scipp.github.io/generated/modules/scipp.constants.html) module.\n",
    "These are taken from SciPy but are represented as variables with a unit, for ease of use and safety.\n",
    "We may, e.g., import the speed of light $c$:"
   ]
  },
  {
   "cell_type": "code",
   "execution_count": null,
   "id": "8a47e549-9e09-4ee0-a4ee-2283b5a99a37",
   "metadata": {},
   "outputs": [],
   "source": [
    "from scipp.constants import c"
   ]
  },
  {
   "cell_type": "code",
   "execution_count": null,
   "id": "7fc7010f-5b11-47c8-bc4f-9b0607ec39c1",
   "metadata": {},
   "outputs": [],
   "source": [
    "c"
   ]
  },
  {
   "cell_type": "markdown",
   "id": "b9852c2b-16ac-4d5d-9184-48df4e2a8e27",
   "metadata": {},
   "source": [
    "This can be used with the quantities we defined above:"
   ]
  },
  {
   "cell_type": "code",
   "execution_count": null,
   "id": "83c94310-7de3-428a-9445-0818d7eba867",
   "metadata": {},
   "outputs": [],
   "source": [
    "length / c"
   ]
  },
  {
   "cell_type": "markdown",
   "id": "a98e32e1-9d18-4adc-aa2c-7a8987627131",
   "metadata": {},
   "source": [
    "## Uncertainties\n",
    "\n",
    "Scipp operations perform linear error propagation, but **operations do not track correlations**.\n",
    "Please **carefully consider** whether this is appropriate for your application! \n",
    "Otherwise the error bars that scipp computes are highly misleading as they give a false sense of security but may actually be completely wrong.\n",
    "See the [uncertainties](https://pythonhosted.org/uncertainties/) Python package for a solution that *can* track correlations.\n",
    "\n",
    "To create a quantity with variance we use the \"creation function\" `scalar`, which returns a variable:"
   ]
  },
  {
   "cell_type": "code",
   "execution_count": null,
   "id": "b6bc810c-ec39-4c9a-901f-b66d88a40782",
   "metadata": {},
   "outputs": [],
   "source": [
    "length = sc.scalar(50.0, variance=0.01, unit='mm')\n",
    "length"
   ]
  },
  {
   "cell_type": "markdown",
   "id": "e9ad574f-a8f8-4f38-a758-add13964cd67",
   "metadata": {},
   "source": [
    "Note that scipp expects and stores the *variance*, i.e., the *square* ($\\sigma^2$) of the standard-deviation $\\sigma$.\n",
    "\n",
    "Computations propagate uncertainties:"
   ]
  },
  {
   "cell_type": "code",
   "execution_count": null,
   "id": "444ed8f1-e01c-4879-8be5-7115dee93634",
   "metadata": {},
   "outputs": [],
   "source": [
    "time = sc.scalar(5.0, variance=0.1, unit='s')\n",
    "length / time"
   ]
  },
  {
   "cell_type": "markdown",
   "id": "58de6da5-620e-4be5-b897-b9d76a974746",
   "metadata": {},
   "source": [
    "The named constants in the `constants` module do not have their variance set.\n",
    "However, the `physical_constants` function can optionally return constants with their known uncertainty:"
   ]
  },
  {
   "cell_type": "code",
   "execution_count": null,
   "id": "7def9ef3-b088-46ca-8733-18771cad4028",
   "metadata": {},
   "outputs": [],
   "source": [
    "from scipp.constants import physical_constants\n",
    "\n",
    "G = physical_constants('Newtonian constant of gravitation', with_variance=True)"
   ]
  },
  {
   "cell_type": "code",
   "execution_count": null,
   "id": "fbe9aa36-dd99-48aa-80e6-567e1b658a36",
   "metadata": {},
   "outputs": [],
   "source": [
    "m1 = sc.scalar(1.0, variance=1e-9, unit='kg')\n",
    "m2 = sc.scalar(2.0, variance=1e-9, unit='kg')\n",
    "G * m1 * m2 / (length.to(unit='m') ** 2)"
   ]
  },
  {
   "cell_type": "markdown",
   "id": "6f988a7e-8bde-4847-b166-c6b2e21cb3b9",
   "metadata": {},
   "source": [
    "## Arrays\n",
    "\n",
    "So far we have worked with single-valued quantities (indicated by an empty shape tuple `()` above) represented by a `scipp.Variable`.\n",
    "The values (and variances) of a `scipp.Variable` work much like a NumPy array.\n",
    "Consider a 2-D NumPy array:"
   ]
  },
  {
   "cell_type": "code",
   "execution_count": null,
   "id": "9adc7236-611b-42b7-95bf-21651fa1ebcb",
   "metadata": {},
   "outputs": [],
   "source": [
    "import numpy as np\n",
    "\n",
    "values = np.random.rand(3, 3)\n",
    "values"
   ]
  },
  {
   "cell_type": "markdown",
   "id": "3432055c-9deb-4b4c-ab31-327cf9d6f153",
   "metadata": {},
   "source": [
    "We can create a `scipp.Variable` from this using `array`:"
   ]
  },
  {
   "cell_type": "code",
   "execution_count": null,
   "id": "029ab90c-d504-4b4f-8764-3dc6abf7123d",
   "metadata": {},
   "outputs": [],
   "source": [
    "var = sc.array(dims=['location', 'time'], values=values, unit='K')\n",
    "var"
   ]
  },
  {
   "cell_type": "markdown",
   "id": "7c4f6b57-47d0-4d35-bf98-8aae7a38bfa0",
   "metadata": {},
   "source": [
    "Conceptually this is an array-valued quantity.\n",
    "The `unit` property was discussed above.\n",
    "The new element here is the `dims` property, which assigns labels to the axes of the NumPy array.\n",
    "With a plain NumPy array it is hard to tell what the following operation does (and whether it matches the intention of the author):"
   ]
  },
  {
   "cell_type": "code",
   "execution_count": null,
   "id": "f40062fd-3a6a-49f3-a682-35ca8a49253f",
   "metadata": {},
   "outputs": [],
   "source": [
    "values[2] + values[:, 2]"
   ]
  },
  {
   "cell_type": "markdown",
   "id": "47c784fc-5898-427a-9e4f-14791b970d5d",
   "metadata": {},
   "source": [
    "Scipp's dimension labels are specified when slicing and make this clear and unambiguous:"
   ]
  },
  {
   "cell_type": "code",
   "execution_count": null,
   "id": "0fddf047-538e-42b0-9965-59e2722ad067",
   "metadata": {},
   "outputs": [],
   "source": [
    "var['time', 2] + var['location', 2]"
   ]
  },
  {
   "cell_type": "markdown",
   "id": "4c9d5406-6371-4e1b-8668-74dfba684b07",
   "metadata": {},
   "source": [
    "Note the automatic broadcast of the operands to a common shape.\n",
    "Dimension labels are also used by other operations, clearly expressing the intent:"
   ]
  },
  {
   "cell_type": "code",
   "execution_count": null,
   "id": "3129988f-e5ea-44b0-9227-894b20b89ac5",
   "metadata": {},
   "outputs": [],
   "source": [
    "var.mean('location')"
   ]
  },
  {
   "cell_type": "markdown",
   "id": "1e22a643-6a13-4454-8e0c-fb49c290cc9d",
   "metadata": {},
   "source": [
    "## Arrays with coordinates"
   ]
  },
  {
   "cell_type": "markdown",
   "id": "09a4ce84-7988-48b2-8216-916155d25938",
   "metadata": {},
   "source": [
    "Variables can be enhanced by **coordinates**.\n",
    "Each coordinate is also a variable.\n",
    "A variable with associated coordinates is called **data array**:"
   ]
  },
  {
   "cell_type": "code",
   "execution_count": null,
   "id": "42dc50b7-fc05-43e6-a816-621c12019a2a",
   "metadata": {},
   "outputs": [],
   "source": [
    "location = sc.linspace('location', 1.2, 1.3, num=4, unit='mm')\n",
    "time = sc.linspace('time', 1.2, 1.3, num=3, unit='s')\n",
    "data = sc.array(dims=['location', 'time'], unit='K', values=np.arange(12).reshape(4, 3))\n",
    "da = sc.DataArray(data, coords={'location': location, 'time': time})\n",
    "da"
   ]
  },
  {
   "cell_type": "markdown",
   "id": "2a3c32e4-0351-4a72-967d-188ba4b4c9fe",
   "metadata": {},
   "source": [
    "Data array coordinates protect against operations between incompatible data:"
   ]
  },
  {
   "cell_type": "code",
   "execution_count": null,
   "id": "74945850-8ae2-40a5-93ef-fed0fb128847",
   "metadata": {
    "tags": [
     "raises-exception"
    ]
   },
   "outputs": [],
   "source": [
    "other = da.copy()  # Copy and modify, for illustration purposes\n",
    "other.coords['time'][-1] += 0.1 * sc.Unit('s')\n",
    "da + other  # will raise an exception"
   ]
  },
  {
   "cell_type": "code",
   "execution_count": null,
   "id": "626c40fa-5af3-457a-a529-dfe52d96054e",
   "metadata": {},
   "outputs": [],
   "source": [
    "da['location', 0:2] - da.mean('location')  # ok, mean over location drops location coord"
   ]
  },
  {
   "cell_type": "markdown",
   "id": "f2d0969e-c32e-473e-9953-f45b87236040",
   "metadata": {},
   "source": [
    "Another application of coordinates is [label-based indexing](https://scipp.github.io/user-guide/slicing.html#Label-based-indexing):"
   ]
  },
  {
   "cell_type": "code",
   "execution_count": null,
   "id": "2f32451e-20e5-4e27-b823-a9c7b2d7097b",
   "metadata": {},
   "outputs": [],
   "source": [
    "start = 1.22 * sc.Unit('s')\n",
    "stop = 1.4 * sc.Unit('s')\n",
    "da['time', start:stop]"
   ]
  },
  {
   "cell_type": "markdown",
   "id": "2802cfc9-4599-4602-8c9b-20018b0ed807",
   "metadata": {},
   "source": [
    "In addition to coordinates, data arrays also provide a dictionary of attributes and a dictionary of masks."
   ]
  }
 ],
 "metadata": {
  "kernelspec": {
   "display_name": "Python 3 (ipykernel)",
   "language": "python",
   "name": "python3"
  },
  "language_info": {
   "codemirror_mode": {
    "name": "ipython",
    "version": 3
   },
   "file_extension": ".py",
   "mimetype": "text/x-python",
   "name": "python",
   "nbconvert_exporter": "python",
   "pygments_lexer": "ipython3",
   "version": "3.8.13"
  }
 },
 "nbformat": 4,
 "nbformat_minor": 5
}
