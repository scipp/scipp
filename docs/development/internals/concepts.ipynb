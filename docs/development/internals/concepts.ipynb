{
 "cells": [
  {
   "cell_type": "markdown",
   "metadata": {},
   "source": [
    "# Concepts\n",
    "\n",
    "## DataArray and Dataset meta data handling\n",
    "\n",
    "This section describes details about how coords (and masks) of datasets and data arrays behave when slicing, combining, or inserting."
   ]
  },
  {
   "cell_type": "code",
   "execution_count": null,
   "metadata": {},
   "outputs": [],
   "source": [
    "import numpy as np\n",
    "import scipp as sc\n",
    "\n",
    "x = sc.Variable(dims=['x'], values=[1, 2, 3, 4])\n",
    "da = sc.DataArray(data=x, coords={'x': x}, masks={'x': sc.less(x, 2 * sc.units.one)})\n",
    "ds = sc.Dataset(data={'a': da})"
   ]
  },
  {
   "cell_type": "markdown",
   "metadata": {},
   "source": [
    "Consider a data array `da` and a dataset `ds` with an aligned coord and an aligned mask.\n",
    "The following conditions must hold:"
   ]
  },
  {
   "cell_type": "code",
   "execution_count": null,
   "metadata": {
    "tags": []
   },
   "outputs": [],
   "source": [
    "assert da['x', 0:1].coords['x'].aligned  # range slice preserves coord and alignment\n",
    "assert 'x' in da['x', 0:1].masks  # range slice preserves mask\n",
    "assert not da['x', 0].coords['x'].aligned  # point slice makes coord unaligned\n",
    "assert 'x' in da['x', 0].masks  # point slice preserves masks"
   ]
  },
  {
   "cell_type": "code",
   "execution_count": null,
   "metadata": {
    "tags": []
   },
   "outputs": [],
   "source": [
    "assert sc.identical(ds['a']['x', 0:1], ds['x', 0:1]['a'])\n",
    "assert sc.identical(ds['a']['x', 0], ds['x', 0]['a'])"
   ]
  },
  {
   "cell_type": "code",
   "execution_count": null,
   "metadata": {
    "tags": []
   },
   "outputs": [],
   "source": [
    "assert ds['a'].coords['x'].aligned\n",
    "assert ds['x', 0:1].coords['x'].aligned\n",
    "assert not ds['x', 0].coords['x'].aligned\n",
    "\n",
    "assert 'x' in ds['a'].masks\n",
    "assert 'x' in ds['x', 0:1]['a'].masks\n",
    "assert 'x' in ds['a']['x', 0].masks\n",
    "assert 'x' in ds['x', 0]['a'].masks"
   ]
  },
  {
   "cell_type": "markdown",
   "metadata": {},
   "source": [
    "In operations, aligned coords are compared:"
   ]
  },
  {
   "cell_type": "code",
   "execution_count": null,
   "metadata": {
    "tags": []
   },
   "outputs": [],
   "source": [
    "try:\n",
    "    ok = da['x', 0:1] + da['x', 1:2]\n",
    "except RuntimeError:\n",
    "    ok = False\n",
    "assert not ok"
   ]
  },
  {
   "cell_type": "markdown",
   "metadata": {},
   "source": [
    "Mismatching unaligned coords are dropped:"
   ]
  },
  {
   "cell_type": "code",
   "execution_count": null,
   "metadata": {
    "tags": []
   },
   "outputs": [],
   "source": [
    "assert sc.identical(da + da['x', 1], da + da['x', 1].data)"
   ]
  },
  {
   "cell_type": "markdown",
   "metadata": {},
   "source": [
    "Masks are ORed, there is no concept of \"unaligned masks\":"
   ]
  },
  {
   "cell_type": "code",
   "execution_count": null,
   "metadata": {
    "tags": []
   },
   "outputs": [],
   "source": [
    "assert not sc.identical(da + da['x', 0], da + da['x', 0].data)"
   ]
  },
  {
   "cell_type": "markdown",
   "metadata": {},
   "source": [
    "Missing unaligned coords are interpreted as mismatch:"
   ]
  },
  {
   "cell_type": "code",
   "execution_count": null,
   "metadata": {
    "tags": []
   },
   "outputs": [],
   "source": [
    "a = da['x', 0].copy()\n",
    "b = da['x', 1].copy()\n",
    "c = da['x', 2].copy()\n",
    "assert sc.identical(a + (b + c), (a + b) + c)"
   ]
  },
  {
   "cell_type": "markdown",
   "metadata": {},
   "source": [
    "Aligned coords take precedence over unaligned coords:"
   ]
  },
  {
   "cell_type": "code",
   "execution_count": null,
   "metadata": {
    "tags": []
   },
   "outputs": [],
   "source": [
    "a = da['x', 0].copy()\n",
    "a.coords.set_aligned('x', True)\n",
    "b = da['x', 1].copy()\n",
    "assert sc.identical((a + b).coords['x'], a.coords['x'])"
   ]
  },
  {
   "cell_type": "markdown",
   "metadata": {},
   "source": [
    "Masks of dataset items are independent:"
   ]
  },
  {
   "cell_type": "code",
   "execution_count": null,
   "metadata": {
    "tags": []
   },
   "outputs": [],
   "source": [
    "masked1 = da.copy()\n",
    "masked1.masks['x'] = sc.less(x, 1 * sc.units.one)\n",
    "masked2 = da.copy()\n",
    "masked2.masks['x'] = sc.less(x, 2 * sc.units.one)\n",
    "assert not sc.identical(masked1, masked2)\n",
    "ds = sc.Dataset({'a': masked1, 'b': masked2})\n",
    "assert not sc.identical(ds['a'].masks['x'], ds['b'].masks['x'])"
   ]
  },
  {
   "cell_type": "code",
   "execution_count": null,
   "metadata": {
    "tags": []
   },
   "outputs": [],
   "source": [
    "edges = sc.Variable(dims=['x'], values=[1, 2, 3, 4, 5])\n",
    "da.coords['x'] = edges\n",
    "assert sc.identical(sc.concat([da['x', :2], da['x', 2:]], 'x'), da)\n",
    "assert sc.identical(sc.concat([da['x', 0], da['x', 1]], 'x'), da['x', 0:2])\n",
    "assert sc.identical(sc.concat([da['x', :-1], da['x', -1]], 'x'), da)\n",
    "da_yx = sc.concat([da['x', :2], da['x', 2:]], 'y')  # create 2-D coord\n",
    "assert sc.identical(\n",
    "    da_yx.coords['x'],\n",
    "    sc.concat([da.coords['x']['x', :3], da.coords['x']['x', 2:]], 'y'),\n",
    ")"
   ]
  },
  {
   "cell_type": "markdown",
   "metadata": {},
   "source": [
    "2-D coords for a dimension prevent operations between slices that are not along that dimension:"
   ]
  },
  {
   "cell_type": "code",
   "execution_count": null,
   "metadata": {
    "tags": []
   },
   "outputs": [],
   "source": [
    "da_2d = sc.DataArray(\n",
    "    data=sc.zeros(dims=['y', 'x'], shape=[2, 2]),\n",
    "    coords={\n",
    "        'x': sc.Variable(dims=['y', 'x'], values=np.array([[1, 2], [3, 4]])),\n",
    "        'y': sc.Variable(dims=['y'], values=[3, 4]),\n",
    "    },\n",
    ")\n",
    "\n",
    "(\n",
    "    da_2d['x', 0] + da_2d['x', 1]\n",
    ")  # Same as with 1-D coord: x-coord differs but not aligned due to slice.\n",
    "try:\n",
    "    # 'y' sliced, so 'x' coord is aligned and yields different values from slices of 2-D coord.\n",
    "    da_2d['y', 0] + da_2d['y', 1]\n",
    "except RuntimeError:\n",
    "    ok = False\n",
    "else:\n",
    "    ok = True\n",
    "assert not ok"
   ]
  },
  {
   "cell_type": "markdown",
   "metadata": {},
   "source": [
    "Coords cannot be added or erased via items since a new coord dict is created when getting a dataset item:"
   ]
  },
  {
   "cell_type": "code",
   "execution_count": null,
   "metadata": {
    "tags": []
   },
   "outputs": [],
   "source": [
    "try:\n",
    "    ds['a'].coords['fail'] = 1.0 * sc.units.m\n",
    "except sc.DataArrayError:\n",
    "    ok = False\n",
    "else:\n",
    "    ok = True\n",
    "assert not ok\n",
    "assert 'fail' not in ds.coords"
   ]
  },
  {
   "cell_type": "code",
   "execution_count": null,
   "metadata": {
    "tags": []
   },
   "outputs": [],
   "source": [
    "ds.coords['xx'] = 1.0 * sc.units.m\n",
    "assert 'xx' in ds['a'].coords\n",
    "try:\n",
    "    del ds['a'].coords['xx']\n",
    "except sc.DataArrayError:\n",
    "    ok = False\n",
    "else:\n",
    "    ok = True\n",
    "assert not ok\n",
    "assert 'xx' in ds.coords"
   ]
  },
  {
   "cell_type": "markdown",
   "metadata": {},
   "source": [
    "The same mechanism applies for coords, masks, and attrs of slices:"
   ]
  },
  {
   "cell_type": "code",
   "execution_count": null,
   "metadata": {
    "tags": []
   },
   "outputs": [],
   "source": [
    "try:\n",
    "    da['x', 0].coords['fail'] = 1.0 * sc.units.m\n",
    "except sc.DataArrayError:\n",
    "    ok = False\n",
    "else:\n",
    "    ok = True\n",
    "assert not ok\n",
    "assert 'fail' not in da.coords"
   ]
  }
 ],
 "metadata": {
  "kernelspec": {
   "display_name": "Python 3 (ipykernel)",
   "language": "python",
   "name": "python3"
  },
  "language_info": {
   "codemirror_mode": {
    "name": "ipython",
    "version": 3
   },
   "file_extension": ".py",
   "mimetype": "text/x-python",
   "name": "python",
   "nbconvert_exporter": "python",
   "pygments_lexer": "ipython3"
  }
 },
 "nbformat": 4,
 "nbformat_minor": 4
}
