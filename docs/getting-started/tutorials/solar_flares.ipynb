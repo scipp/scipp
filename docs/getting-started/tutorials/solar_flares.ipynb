{
 "cells": [
  {
   "cell_type": "markdown",
   "id": "0",
   "metadata": {
    "editable": true,
    "slideshow": {
     "slide_type": ""
    },
    "tags": []
   },
   "source": [
    "**Audience**: Advanced beginner / intermediate (*requires basic knowledge of* `scipp.DataArray`)\n",
    "\n",
    "**Objectives**: Constructing binned data from an event list, modifying binning in order to extract different quantities, and basic masking and filtering of event and binned data."
   ]
  },
  {
   "cell_type": "markdown",
   "id": "1",
   "metadata": {
    "editable": true,
    "slideshow": {
     "slide_type": ""
    },
    "tags": []
   },
   "source": [
    "# RHESSI Solar Flares"
   ]
  },
  {
   "cell_type": "markdown",
   "id": "2",
   "metadata": {
    "editable": true,
    "slideshow": {
     "slide_type": ""
    },
    "tags": []
   },
   "source": [
    "This tutorial covers the basics of binned data in Scipp by analyzing the list of solar flares recorded by NASA's RHESSI small explorer [[Lin *et al*](#lin2002)].\n",
    "\n",
    "The input data has been constructed from the official [flare list](https://hesperia.gsfc.nasa.gov/rhessi3/data-access/rhessi-data/flare-list/index.html).\n",
    "It is available as a HDF5 file in Scipp's own format and can be downloaded and accessed directly via `scipp.data` as shown below.\n",
    "\n",
    "<div class=\"alert alert-warning\">\n",
    "\n",
    "**Attention**\n",
    "\n",
    "The tutorial data has been filtered and modified.\n",
    "It should not be used for any actual scientific analyses!\n",
    "\n",
    "See `docs/getting-started/tutorials/prepare_data_rhessi.py` in the [scipp source](https://github.com/scipp/scipp) for details.\n",
    "</div>"
   ]
  },
  {
   "cell_type": "markdown",
   "id": "3",
   "metadata": {
    "editable": true,
    "slideshow": {
     "slide_type": ""
    },
    "tags": []
   },
   "source": [
    "## 1 Loading and preprocessing data"
   ]
  },
  {
   "cell_type": "code",
   "execution_count": null,
   "id": "4",
   "metadata": {
    "editable": true,
    "slideshow": {
     "slide_type": ""
    },
    "tags": []
   },
   "outputs": [],
   "source": [
    "import scipp as sc"
   ]
  },
  {
   "cell_type": "markdown",
   "id": "5",
   "metadata": {
    "editable": true,
    "slideshow": {
     "slide_type": ""
    },
    "tags": []
   },
   "source": [
    "### 1.1 Load Flare List"
   ]
  },
  {
   "cell_type": "markdown",
   "id": "6",
   "metadata": {
    "editable": true,
    "slideshow": {
     "slide_type": ""
    },
    "tags": []
   },
   "source": [
    "The file contains a number of items that are loaded together as a data group.\n",
    "- `flares`: The actual flare list.\n",
    "- `non_solar`: Indicates whether a flare event actually originated from a source that is not the Sun.\n",
    "- `detector_efficiency`: Relative efficiencies of the detector components. This is faked for the purposes of this tutorial! The official flare list is already corrected for such effects."
   ]
  },
  {
   "cell_type": "code",
   "execution_count": null,
   "id": "7",
   "metadata": {
    "editable": true,
    "slideshow": {
     "slide_type": ""
    },
    "tags": []
   },
   "outputs": [],
   "source": [
    "filename = sc.data.rhessi_flares()\n",
    "flare_datagroup = sc.io.load_hdf5(filename)\n",
    "flare_datagroup"
   ]
  },
  {
   "cell_type": "markdown",
   "id": "8",
   "metadata": {},
   "source": [
    "For ease of use, we extract the `flares` data array.\n",
    "Its data (`flares.data`) contains a weight for each flare.\n",
    "Initially, all weights are 1.\n",
    "\n",
    "Its coordinates have the following meanings:\n",
    "\n",
    "- `start_time`, `end_time`: Time interval of flare.\n",
    "- `peak_time`: Date and time of the highest x-ray flux.\n",
    "- `x`, `y`: Position in the image seen by RHESSI.\n",
    "- `min_energy`, `max_energy`: Energy band that a flare was observed in. Bands do not overlap."
   ]
  },
  {
   "cell_type": "code",
   "execution_count": null,
   "id": "9",
   "metadata": {},
   "outputs": [],
   "source": [
    "flares = flare_datagroup['flares']\n",
    "flares"
   ]
  },
  {
   "cell_type": "markdown",
   "id": "10",
   "metadata": {
    "editable": true,
    "slideshow": {
     "slide_type": ""
    },
    "tags": []
   },
   "source": [
    "### 1.2 Inspect the Loaded Data"
   ]
  },
  {
   "cell_type": "markdown",
   "id": "11",
   "metadata": {
    "editable": true,
    "slideshow": {
     "slide_type": ""
    },
    "tags": []
   },
   "source": [
    "Begin by inspecting the data group and flares data array to gain a basic understanding of the data.\n",
    "This task is open-ended, and you can continue when you feel confident that you know what `flares` (and `flare_datagroup`) contains.\n",
    "\n",
    "Possible actions:\n",
    "\n",
    "- Use [scipp.show](https://scipp.github.io/generated/functions/scipp.show.html) and [scipp.table](https://scipp.github.io/generated/functions/scipp.table.html) in addition to the HTML output of the cell above.\n",
    "- Inspect individual coordinates using `flares.coords['<name>']`.\n",
    "\n",
    "For guidance, you can answer the following questions. Or find your own.\n",
    "\n",
    "- How many flares are there in the dataset?\n",
    "- How many flares are flagged as 'non_solar'?\n",
    "- What is the time range of the data?\n",
    "\n",
    "**Tip**: Use [scipp.sum](https://scipp.github.io/generated/functions/scipp.sum.html), [scipp.max](https://scipp.github.io/generated/functions/scipp.max.html), and [scipp.min](https://scipp.github.io/generated/functions/scipp.min.html) with the coordinates of `flares` and items of `flare_datagroup`."
   ]
  },
  {
   "cell_type": "code",
   "execution_count": null,
   "id": "12",
   "metadata": {
    "editable": true,
    "slideshow": {
     "slide_type": ""
    },
    "tags": []
   },
   "outputs": [],
   "source": [
    "# YOUR CODE"
   ]
  },
  {
   "cell_type": "markdown",
   "id": "13",
   "metadata": {
    "tags": []
   },
   "source": [
    "#### Solution"
   ]
  },
  {
   "cell_type": "code",
   "execution_count": null,
   "id": "14",
   "metadata": {
    "tags": []
   },
   "outputs": [],
   "source": [
    "# Number of flares\n",
    "flares.sizes['flare']"
   ]
  },
  {
   "cell_type": "code",
   "execution_count": null,
   "id": "15",
   "metadata": {
    "tags": []
   },
   "outputs": [],
   "source": [
    "# Number of flares flagged as non-solar\n",
    "flare_datagroup['non_solar'].sum()"
   ]
  },
  {
   "cell_type": "code",
   "execution_count": null,
   "id": "16",
   "metadata": {
    "tags": []
   },
   "outputs": [],
   "source": [
    "# Start of time range\n",
    "flares.coords['start_time'].min()"
   ]
  },
  {
   "cell_type": "code",
   "execution_count": null,
   "id": "17",
   "metadata": {
    "tags": []
   },
   "outputs": [],
   "source": [
    "# End of time range\n",
    "flares.coords['end_time'].max()"
   ]
  },
  {
   "cell_type": "markdown",
   "id": "18",
   "metadata": {
    "editable": true,
    "slideshow": {
     "slide_type": ""
    },
    "tags": []
   },
   "source": [
    "---"
   ]
  },
  {
   "cell_type": "markdown",
   "id": "19",
   "metadata": {},
   "source": [
    "### 1.3 Compute Duration"
   ]
  },
  {
   "cell_type": "markdown",
   "id": "20",
   "metadata": {},
   "source": [
    "Calculate the duration of flares as `end_time - start_time` and store the result as a new coordinate in `flares`.\n",
    "Remember that `flares.coords` functions like a Python `dict`."
   ]
  },
  {
   "cell_type": "code",
   "execution_count": null,
   "id": "21",
   "metadata": {
    "tags": []
   },
   "outputs": [],
   "source": [
    "# YOUR CODE"
   ]
  },
  {
   "cell_type": "markdown",
   "id": "22",
   "metadata": {
    "tags": []
   },
   "source": [
    "#### Solution"
   ]
  },
  {
   "cell_type": "markdown",
   "id": "23",
   "metadata": {},
   "source": [
    "Simple:"
   ]
  },
  {
   "cell_type": "code",
   "execution_count": null,
   "id": "24",
   "metadata": {
    "tags": []
   },
   "outputs": [],
   "source": [
    "duration = flares.coords['end_time'] - flares.coords['start_time']\n",
    "flares.coords['duration'] = duration"
   ]
  },
  {
   "cell_type": "markdown",
   "id": "25",
   "metadata": {},
   "source": [
    "Advanced, using a [coordinate transformation](https://scipp.github.io/user-guide/coordinate-transformations.html):"
   ]
  },
  {
   "cell_type": "code",
   "execution_count": null,
   "id": "26",
   "metadata": {
    "tags": []
   },
   "outputs": [],
   "source": [
    "def compute_duration(start_time, end_time):\n",
    "    return end_time - start_time\n",
    "\n",
    "\n",
    "flares = flares.transform_coords('duration', {'duration': compute_duration})"
   ]
  },
  {
   "cell_type": "code",
   "execution_count": null,
   "id": "27",
   "metadata": {
    "tags": []
   },
   "outputs": [],
   "source": [
    "flares"
   ]
  },
  {
   "cell_type": "markdown",
   "id": "28",
   "metadata": {},
   "source": [
    "---"
   ]
  },
  {
   "cell_type": "markdown",
   "id": "29",
   "metadata": {},
   "source": [
    "####  \n",
    "What is the combined duration of flares?\n",
    "(Find an appropriate function in https://scipp.github.io/reference/free-functions.html#reduction)"
   ]
  },
  {
   "cell_type": "code",
   "execution_count": null,
   "id": "30",
   "metadata": {
    "tags": []
   },
   "outputs": [],
   "source": [
    "# YOUR CODE"
   ]
  },
  {
   "cell_type": "markdown",
   "id": "31",
   "metadata": {
    "tags": []
   },
   "source": [
    "#### Solution"
   ]
  },
  {
   "cell_type": "code",
   "execution_count": null,
   "id": "32",
   "metadata": {
    "tags": []
   },
   "outputs": [],
   "source": [
    "sc.sum(duration).to(unit='D', dtype='float64')"
   ]
  },
  {
   "cell_type": "markdown",
   "id": "33",
   "metadata": {
    "editable": true,
    "slideshow": {
     "slide_type": ""
    },
    "tags": []
   },
   "source": [
    "---"
   ]
  },
  {
   "cell_type": "markdown",
   "id": "34",
   "metadata": {},
   "source": [
    "### 1.4 Create Masks"
   ]
  },
  {
   "cell_type": "markdown",
   "id": "35",
   "metadata": {},
   "source": [
    "Some events in the input data did not originate from the Sun.\n",
    "\n",
    "There are two options for handling those events, removing them or masking them.\n",
    "You can choose a solution, but the descriptions guide you through masking, which is a method for removing events non-destructively.\n",
    "That is, the masks can be removed later to get the full event list back in order to determine the impact of the masks.\n",
    "\n",
    "#### Non-solar mask\n",
    "First, store `'non_solar'` as a mask.\n",
    "Use `flare_datagroup` and `flares.masks` which are `dict`-like objects (similar to `flares.coords`)."
   ]
  },
  {
   "cell_type": "code",
   "execution_count": null,
   "id": "36",
   "metadata": {
    "tags": []
   },
   "outputs": [],
   "source": [
    "# YOUR CODE"
   ]
  },
  {
   "cell_type": "markdown",
   "id": "37",
   "metadata": {
    "tags": []
   },
   "source": [
    "#### Solution"
   ]
  },
  {
   "cell_type": "code",
   "execution_count": null,
   "id": "38",
   "metadata": {
    "tags": []
   },
   "outputs": [],
   "source": [
    "flares.masks['non_solar'] = flare_datagroup['non_solar']"
   ]
  },
  {
   "cell_type": "markdown",
   "id": "39",
   "metadata": {
    "editable": true,
    "slideshow": {
     "slide_type": ""
    },
    "tags": []
   },
   "source": [
    "---"
   ]
  },
  {
   "cell_type": "markdown",
   "id": "40",
   "metadata": {},
   "source": [
    "#### Unknown position mask\n",
    "\n",
    "Second, there are some flares whose positions could not be determined.\n",
    "Those are stored with `x == y == 0` and need to be removed, as well.\n",
    "\n",
    "Construct a boolean variable by comparing `flares.coords['<x_or_y>']` to 0.\n",
    "Note that `x` and `y` have unit 'asec'.\n",
    "This means that you have to construct a '0' with the same unit which can be done using `0 * sc.Unit('asec')`.\n",
    "\n",
    "Finally, combine the variables for `x` and `y` using `mask_x & mask_y` and store the result as a new mask in `flares`."
   ]
  },
  {
   "cell_type": "code",
   "execution_count": null,
   "id": "41",
   "metadata": {
    "tags": []
   },
   "outputs": [],
   "source": [
    "# YOUR CODE"
   ]
  },
  {
   "cell_type": "markdown",
   "id": "42",
   "metadata": {
    "tags": []
   },
   "source": [
    "#### Solution"
   ]
  },
  {
   "cell_type": "code",
   "execution_count": null,
   "id": "43",
   "metadata": {
    "tags": []
   },
   "outputs": [],
   "source": [
    "flares.masks['unknown_position'] = (flares.coords['x'] == 0 * sc.Unit('asec')) & (\n",
    "    flares.coords['y'] == 0 * sc.Unit('asec')\n",
    ")"
   ]
  },
  {
   "cell_type": "markdown",
   "id": "44",
   "metadata": {},
   "source": [
    "---"
   ]
  },
  {
   "cell_type": "markdown",
   "id": "45",
   "metadata": {},
   "source": [
    "####  \n",
    "How many flares are now masked? (By each mask individually and by the combination.)\n",
    "\n",
    "**Tip**: You can `sum` booleans."
   ]
  },
  {
   "cell_type": "code",
   "execution_count": null,
   "id": "46",
   "metadata": {
    "tags": []
   },
   "outputs": [],
   "source": [
    "# YOUR CODE"
   ]
  },
  {
   "cell_type": "markdown",
   "id": "47",
   "metadata": {
    "tags": []
   },
   "source": [
    "#### Solution"
   ]
  },
  {
   "cell_type": "code",
   "execution_count": null,
   "id": "48",
   "metadata": {
    "tags": []
   },
   "outputs": [],
   "source": [
    "ns_mask = flares.masks['non_solar']\n",
    "pos_mask = flares.masks['unknown_position']\n",
    "{\n",
    "    'non_solar': ns_mask.sum().value,\n",
    "    'unknown_position': pos_mask.sum().value,\n",
    "    'combined': sc.sum(ns_mask | pos_mask).value,\n",
    "}"
   ]
  },
  {
   "cell_type": "markdown",
   "id": "49",
   "metadata": {},
   "source": [
    "---"
   ]
  },
  {
   "cell_type": "markdown",
   "id": "50",
   "metadata": {},
   "source": [
    "## 2 Spatial Distribution"
   ]
  },
  {
   "cell_type": "markdown",
   "id": "51",
   "metadata": {
    "editable": true,
    "slideshow": {
     "slide_type": ""
    },
    "tags": []
   },
   "source": [
    "### 2.1 Bin by x and y"
   ]
  },
  {
   "cell_type": "markdown",
   "id": "52",
   "metadata": {
    "editable": true,
    "slideshow": {
     "slide_type": ""
    },
    "tags": []
   },
   "source": [
    "Plot the spatial distribution of flares.\n",
    "\n",
    "Plotting the event list `flares` would yield a scatter plot which is not particularly useful.\n",
    "A better approach is computing and plotting the density as a function of `x` and `y`.\n",
    "This is commonly done by histogramming the events.\n",
    "But Scipp offers an alternative: binning.\n",
    "\n",
    "Scipp's 'binned data' is similar to a histogram, except that the individual events are preserved.\n",
    "They are simply collected into bins as defined by bin-edge coordinates.\n",
    "\n",
    "Define bin-edges for `x` and `y`, use [scipp.bin](https://scipp.github.io/generated/functions/scipp.bin.html) to create binned data from `flares`, and plot the result.\n",
    "\n",
    "**Tip**:\n",
    "\n",
    "- Use [scipp.arange](https://scipp.github.io/generated/functions/scipp.arange.html) or [scipp.linspace](https://scipp.github.io/generated/functions/scipp.linspace.html) to construct the edges. Make sure to use the correct unit!\n",
    "- Use `sc.bin(flares, edges=[<edge_x>, <edge_y>])`.\n",
    "- Turn your binned data into a histogram before plotting using `<binned>.bins.sum()`.\n",
    "- See the [Plopp documentation](https://scipp.github.io/plopp/) for the relevant parts of the plotting API."
   ]
  },
  {
   "cell_type": "code",
   "execution_count": null,
   "id": "53",
   "metadata": {
    "tags": []
   },
   "outputs": [],
   "source": [
    "# YOUR CODE"
   ]
  },
  {
   "cell_type": "markdown",
   "id": "54",
   "metadata": {
    "editable": true,
    "slideshow": {
     "slide_type": ""
    },
    "tags": []
   },
   "source": [
    "#### Solution"
   ]
  },
  {
   "cell_type": "markdown",
   "id": "55",
   "metadata": {},
   "source": [
    "Bin spatially."
   ]
  },
  {
   "cell_type": "code",
   "execution_count": null,
   "id": "56",
   "metadata": {
    "tags": []
   },
   "outputs": [],
   "source": [
    "spatial = flares.bin(\n",
    "    y=sc.linspace('y', -1200, 1200, 100, unit='asec'),\n",
    "    x=sc.linspace('x', -1200, 1200, 100, unit='asec'),\n",
    ")"
   ]
  },
  {
   "cell_type": "markdown",
   "id": "57",
   "metadata": {},
   "source": [
    "Histogram and plot.\n",
    "The arguments to `plot` are optional but improve the result here."
   ]
  },
  {
   "cell_type": "code",
   "execution_count": null,
   "id": "58",
   "metadata": {
    "tags": []
   },
   "outputs": [],
   "source": [
    "p = spatial.hist().plot(aspect='equal', norm='log', cmap='inferno')\n",
    "p.canvas.xlabel = 'x [asec]'\n",
    "p.canvas.ylabel = 'y [asec]'\n",
    "p"
   ]
  },
  {
   "cell_type": "markdown",
   "id": "59",
   "metadata": {
    "editable": true,
    "slideshow": {
     "slide_type": ""
    },
    "tags": []
   },
   "source": [
    "---"
   ]
  },
  {
   "cell_type": "markdown",
   "id": "60",
   "metadata": {},
   "source": [
    "### 2.2 Remove Outliers"
   ]
  },
  {
   "cell_type": "markdown",
   "id": "61",
   "metadata": {},
   "source": [
    "The plot shows a lot of outliers.\n",
    "They are not the non-solar events from before because those are not visible in the plot as they were masked out.\n",
    "Instead, the outliers are caused by RHESSI's electronics or analysis software glitching out and assigning bad positions to the flares.\n",
    "This includes the circular shape even though it looks deceptively Sun-like.\n",
    "\n",
    "The flare list does not include enough information to exclude all such bad positions.\n",
    "But the instrument can only detect x-rays for $x \\in [-1000~\\text{asec}, 1000~\\text{asec}]$ and $y \\in [-600~\\text{asec}, 600~\\text{asec}]$.\n",
    "So to first order, all events outside that range should be removed.\n",
    "\n",
    "Instead of using a mask as before, use binning this time.\n",
    "Create new bin-edges for `x` and `y` with the proper limits and bin the data with them, this will remove all events outside the valid range.\n",
    "Plot the result.\n",
    "(You can either bin the original `flares` data array or apply new bins to the previously binned array; both via [scipp.bin](https://scipp.github.io/generated/functions/scipp.bin.html))."
   ]
  },
  {
   "cell_type": "code",
   "execution_count": null,
   "id": "62",
   "metadata": {
    "tags": []
   },
   "outputs": [],
   "source": [
    "# YOUR CODE"
   ]
  },
  {
   "cell_type": "markdown",
   "id": "63",
   "metadata": {
    "tags": []
   },
   "source": [
    "#### Solution\n",
    "\n",
    "Bin into a more narrow range.\n",
    "Bin sizes are chosen such that bins are square."
   ]
  },
  {
   "cell_type": "code",
   "execution_count": null,
   "id": "64",
   "metadata": {
    "tags": []
   },
   "outputs": [],
   "source": [
    "spatial = flares.bin(\n",
    "    y=sc.linspace('y', -600, 600, 90, unit='asec'),\n",
    "    x=sc.linspace('x', -1000, 1000, 150, unit='asec'),\n",
    ")"
   ]
  },
  {
   "cell_type": "markdown",
   "id": "65",
   "metadata": {},
   "source": [
    "And plot like before."
   ]
  },
  {
   "cell_type": "code",
   "execution_count": null,
   "id": "66",
   "metadata": {
    "tags": []
   },
   "outputs": [],
   "source": [
    "p = spatial.hist().plot(aspect='equal', norm='log', cmap='inferno')\n",
    "p.canvas.xlabel = 'x [asec]'\n",
    "p.canvas.ylabel = 'y [asec]'\n",
    "p"
   ]
  },
  {
   "cell_type": "markdown",
   "id": "67",
   "metadata": {
    "editable": true,
    "slideshow": {
     "slide_type": ""
    },
    "tags": []
   },
   "source": [
    "---"
   ]
  },
  {
   "cell_type": "markdown",
   "id": "68",
   "metadata": {},
   "source": [
    "### 2.3 Correct for Detector Efficiency"
   ]
  },
  {
   "cell_type": "markdown",
   "id": "69",
   "metadata": {},
   "source": [
    "In this tutorial, we assume that the instrument consists of a 3x3 grid of detectors which each record x-rays from distinct directions.\n",
    "(The reality is more complicated, of course.)\n",
    "Furthermore, the tutorial data has been manipulated to simulate different efficiencies of the individual detectors.\n",
    "\n",
    "The efficiency is available in the input data group:"
   ]
  },
  {
   "cell_type": "code",
   "execution_count": null,
   "id": "70",
   "metadata": {
    "tags": []
   },
   "outputs": [],
   "source": [
    "efficiency = flare_datagroup['detector_efficiency']\n",
    "efficiency"
   ]
  },
  {
   "cell_type": "markdown",
   "id": "71",
   "metadata": {},
   "source": [
    "Normalize the data by dividing by `efficiency`.\n",
    "You first need to bin into the correct bins as defined by the coordinates of `efficiency`."
   ]
  },
  {
   "cell_type": "code",
   "execution_count": null,
   "id": "72",
   "metadata": {},
   "outputs": [],
   "source": [
    "# YOUR CODE"
   ]
  },
  {
   "cell_type": "markdown",
   "id": "73",
   "metadata": {
    "tags": []
   },
   "source": [
    "#### Solution"
   ]
  },
  {
   "cell_type": "code",
   "execution_count": null,
   "id": "74",
   "metadata": {},
   "outputs": [],
   "source": [
    "coarse_spatial = spatial.bin(x=efficiency.coords['x'], y=efficiency.coords['y'])\n",
    "corrected = coarse_spatial / efficiency"
   ]
  },
  {
   "cell_type": "markdown",
   "id": "75",
   "metadata": {
    "editable": true,
    "slideshow": {
     "slide_type": ""
    },
    "tags": []
   },
   "source": [
    "---"
   ]
  },
  {
   "cell_type": "markdown",
   "id": "76",
   "metadata": {},
   "source": [
    "####  \n",
    "You can plot the corrected data as before. But it makes sense to return to smaller bins in order to resolve the distribution properly.\n",
    "This can be done using [scipp.bin](https://scipp.github.io/generated/functions/scipp.bin.html) with finer edges because the data was only binned and not histogrammed."
   ]
  },
  {
   "cell_type": "code",
   "execution_count": null,
   "id": "77",
   "metadata": {},
   "outputs": [],
   "source": [
    "# YOUR CODE"
   ]
  },
  {
   "cell_type": "markdown",
   "id": "78",
   "metadata": {
    "tags": []
   },
   "source": [
    "#### Solution"
   ]
  },
  {
   "cell_type": "markdown",
   "id": "79",
   "metadata": {},
   "source": [
    "Bin in the same way as before but using `corrected` as input"
   ]
  },
  {
   "cell_type": "code",
   "execution_count": null,
   "id": "80",
   "metadata": {},
   "outputs": [],
   "source": [
    "spatial = corrected.bin(\n",
    "    y=sc.linspace('y', -600, 600, 90, unit='asec'),\n",
    "    x=sc.linspace('x', -1000, 1000, 150, unit='asec'),\n",
    ")"
   ]
  },
  {
   "cell_type": "markdown",
   "id": "81",
   "metadata": {},
   "source": [
    "And plot like before."
   ]
  },
  {
   "cell_type": "code",
   "execution_count": null,
   "id": "82",
   "metadata": {},
   "outputs": [],
   "source": [
    "p = spatial.hist().plot(aspect='equal', norm='log', cmap='inferno')\n",
    "p.canvas.xlabel = 'x [asec]'\n",
    "p.canvas.ylabel = 'y [asec]'\n",
    "p"
   ]
  },
  {
   "cell_type": "markdown",
   "id": "83",
   "metadata": {
    "editable": true,
    "slideshow": {
     "slide_type": ""
    },
    "tags": []
   },
   "source": [
    "---"
   ]
  },
  {
   "cell_type": "markdown",
   "id": "84",
   "metadata": {},
   "source": [
    "## 3 Time Series"
   ]
  },
  {
   "cell_type": "markdown",
   "id": "85",
   "metadata": {},
   "source": [
    "Now, we want to look at the distribution of flares over time.\n",
    "The temporal distribution can be obtained like the spatial one using binning.\n",
    "\n",
    "### 3.1 Bin on time coordinate\n",
    "\n",
    "Select one of the time coordinates (e.g. 'peak_time') and bin with an appropriate bin size.\n",
    "Plot the result.\n",
    "\n",
    "**Important**: Use the pre-binned data from the previous task in order to include the detector normalization.\n",
    "\n",
    "**Tip**:\n",
    "\n",
    "- The time coordinates are event-coordinates, that is, they are not defined at the top level of the binned data (i.e. per bin) but inside of the bins (i.e. per event). You can access them using `<binned>.bins.coords['peak_time']`.\n",
    "- You can add binning by time using `<binned>.bin(peak_time=<n_bins>)` and produce a three-dimensional array.\n",
    "  But here, we are more interested in a one-dimensional distribution.\n",
    "  So we need to erase the binning in `x` and `y` which can be achieved, e.g., using `<binned>.bins.concat('x')`.\n",
    "  \n",
    "  Alternatively, the lower level function [scipp.binning.make_binned](https://scipp.github.io/generated/modules/scipp.binning.make_binned.html) can be used to bin in time and erase spatial binning at the same time."
   ]
  },
  {
   "cell_type": "code",
   "execution_count": null,
   "id": "86",
   "metadata": {},
   "outputs": [],
   "source": [
    "# YOUR CODE"
   ]
  },
  {
   "cell_type": "markdown",
   "id": "87",
   "metadata": {
    "tags": []
   },
   "source": [
    "#### Solution"
   ]
  },
  {
   "cell_type": "markdown",
   "id": "88",
   "metadata": {},
   "source": [
    "Here we keep the existing binning and plot time slices of the distribution of the events using the `plopp.slicer` tool.\n",
    "The slicer returns two widgets, a figure and a slider, to change properties of the figure we access the widget at index 0.\n",
    "Notice that the color scale is kept fixed by setting `vmin` and `vmax` keyword arguments in the call to plot."
   ]
  },
  {
   "cell_type": "code",
   "execution_count": null,
   "id": "89",
   "metadata": {},
   "outputs": [],
   "source": [
    "%matplotlib widget\n",
    "import plopp as pp\n",
    "\n",
    "temporal_and_spatial = spatial.bin(peak_time=10)\n",
    "p = pp.slicer(\n",
    "    temporal_and_spatial.hist(),\n",
    "    keep=['y', 'x'],\n",
    "    vmin=sc.scalar(1),\n",
    "    autoscale='fixed',\n",
    "    aspect='equal',\n",
    "    cmap='magma',\n",
    "    norm='log',\n",
    ")\n",
    "p.canvas.xlabel = 'x [asec]'\n",
    "p.canvas.ylabel = 'y [asec]'\n",
    "p"
   ]
  },
  {
   "cell_type": "markdown",
   "id": "90",
   "metadata": {},
   "source": [
    "Or you can remove the existing binning and bin in time to yield a 1D-variable representing the number of flares in each time bin."
   ]
  },
  {
   "cell_type": "code",
   "execution_count": null,
   "id": "91",
   "metadata": {},
   "outputs": [],
   "source": [
    "temporal = spatial.bins.concat('x').bins.concat('y').bin(peak_time=200)\n",
    "temporal.hist().plot()"
   ]
  },
  {
   "cell_type": "markdown",
   "id": "92",
   "metadata": {},
   "source": [
    "Note that it is important to first remove the binning in x and y by using `concat`.\n",
    "Binning in time first and then removing other binning would use too much memory.\n",
    "It is possible to do everything in one step using a lower-level API:"
   ]
  },
  {
   "cell_type": "code",
   "execution_count": null,
   "id": "93",
   "metadata": {},
   "outputs": [],
   "source": [
    "from scipp.binning import make_binned\n",
    "\n",
    "time = spatial.bins.coords['peak_time']\n",
    "min_time = time.min().value\n",
    "max_time = time.max().value\n",
    "step = (max_time - min_time) / 200\n",
    "time_edges = sc.arange('peak_time', min_time, max_time, step, unit=time.bins.unit)\n",
    "temporal = make_binned(spatial, edges=[time_edges], erase=('x', 'y'))\n",
    "temporal.hist().plot()"
   ]
  },
  {
   "cell_type": "markdown",
   "id": "94",
   "metadata": {},
   "source": [
    "---"
   ]
  },
  {
   "cell_type": "markdown",
   "id": "95",
   "metadata": {},
   "source": [
    "### 3.2 Flare Durations"
   ]
  },
  {
   "cell_type": "markdown",
   "id": "96",
   "metadata": {},
   "source": [
    "Another interesting quantity to look at is the duration of flares.\n",
    "The duration was computed earlier and should already be stored as an event coordinate.\n",
    "\n",
    "Plot the duration as a function of time.\n",
    "\n",
    "**Tip**:\n",
    "\n",
    "- Construct a new data array from the previous result: `duration = <binned_by_time>.copy()`.\n",
    "  And assign new data using `duration.bins.data = <duration_data>`.\n",
    "- Previously, we used `.hist()` (which is an alias for `.bins.sum()`) to make histograms because the data was given as counts.\n",
    "  Now the data is seconds which should be averaged instead of summed.\n",
    "  So use `.bins.mean()` instead."
   ]
  },
  {
   "cell_type": "code",
   "execution_count": null,
   "id": "97",
   "metadata": {},
   "outputs": [],
   "source": [
    "# YOUR CODE"
   ]
  },
  {
   "cell_type": "markdown",
   "id": "98",
   "metadata": {
    "tags": []
   },
   "source": [
    "#### Solution"
   ]
  },
  {
   "cell_type": "markdown",
   "id": "99",
   "metadata": {},
   "source": [
    "Create a new data array containing the duration as its `data`."
   ]
  },
  {
   "cell_type": "code",
   "execution_count": null,
   "id": "100",
   "metadata": {},
   "outputs": [],
   "source": [
    "duration = temporal.copy()\n",
    "duration.name = 'duration'\n",
    "duration.bins.data = duration.bins.coords.pop('duration')"
   ]
  },
  {
   "cell_type": "markdown",
   "id": "101",
   "metadata": {},
   "source": [
    "Plot duration vs time."
   ]
  },
  {
   "cell_type": "code",
   "execution_count": null,
   "id": "102",
   "metadata": {},
   "outputs": [],
   "source": [
    "duration.bins.mean().plot()"
   ]
  },
  {
   "cell_type": "markdown",
   "id": "103",
   "metadata": {
    "editable": true,
    "slideshow": {
     "slide_type": ""
    },
    "tags": []
   },
   "source": [
    "---"
   ]
  },
  {
   "cell_type": "markdown",
   "id": "104",
   "metadata": {
    "tags": []
   },
   "source": [
    "## 4 Energy Bands"
   ]
  },
  {
   "cell_type": "markdown",
   "id": "105",
   "metadata": {},
   "source": [
    "The flares were recorded in several non-overlapping energy bands.\n",
    "Those are identified by the 'min_energy' and 'max_energy' coordinates in `flares`.\n",
    "Since the bands do not overlap, it is sufficient to label them with 'min_energy' for simplicity.\n",
    "\n",
    "### 4.1 Group by energy content\n",
    "\n",
    "In this section, we want to split the temporal distribution from above into the different energy bands.\n",
    "Group the temporal distribution by 'min_energy' to obtain two-dimensional data.\n",
    "Use [scipp.group](https://scipp.github.io/generated/functions/scipp.group.html) instead of `scipp.bin` this time because every event has exactly one of a set of possible energies instead of a value in a range."
   ]
  },
  {
   "cell_type": "code",
   "execution_count": null,
   "id": "106",
   "metadata": {},
   "outputs": [],
   "source": [
    "# YOUR CODE"
   ]
  },
  {
   "cell_type": "markdown",
   "id": "107",
   "metadata": {
    "jp-MarkdownHeadingCollapsed": true,
    "tags": []
   },
   "source": [
    "#### Solution"
   ]
  },
  {
   "cell_type": "markdown",
   "id": "108",
   "metadata": {},
   "source": [
    "Skipping the lowest energy band here because those events are not confirmed to be solar flares.\n",
    "This is optional."
   ]
  },
  {
   "cell_type": "code",
   "execution_count": null,
   "id": "109",
   "metadata": {},
   "outputs": [],
   "source": [
    "grouped_by_energy = temporal.group('min_energy')['min_energy', 1:]"
   ]
  },
  {
   "cell_type": "markdown",
   "id": "110",
   "metadata": {
    "editable": true,
    "slideshow": {
     "slide_type": ""
    },
    "tags": []
   },
   "source": [
    "---"
   ]
  },
  {
   "cell_type": "markdown",
   "id": "111",
   "metadata": {},
   "source": [
    "####  \n",
    "Plot the result.\n",
    "A 2D plot is not very useful here, so split the data by 'min_energy' and either plot each energy in a separate plot or combine them into a dictionary and plot that:\n",
    "```python\n",
    "lines = {'<name>': <data_array>}\n",
    "sc.plot(lines)\n",
    "```"
   ]
  },
  {
   "cell_type": "code",
   "execution_count": null,
   "id": "112",
   "metadata": {},
   "outputs": [],
   "source": [
    "# YOUR CODE"
   ]
  },
  {
   "cell_type": "markdown",
   "id": "113",
   "metadata": {
    "tags": []
   },
   "source": [
    "#### Solution"
   ]
  },
  {
   "cell_type": "code",
   "execution_count": null,
   "id": "114",
   "metadata": {},
   "outputs": [],
   "source": [
    "lines = {\n",
    "    f\"min_energy={energy.value} {energy.unit}\": grouped_by_energy[\n",
    "        'min_energy', energy\n",
    "    ].bins.sum()\n",
    "    for energy in grouped_by_energy.coords['min_energy']\n",
    "}\n",
    "sc.plot(lines)"
   ]
  },
  {
   "cell_type": "markdown",
   "id": "115",
   "metadata": {},
   "source": [
    "---"
   ]
  },
  {
   "cell_type": "markdown",
   "id": "116",
   "metadata": {},
   "source": [
    "## References"
   ]
  },
  {
   "cell_type": "markdown",
   "id": "117",
   "metadata": {},
   "source": [
    "<div id='lin2002'></div>\n",
    "\n",
    "Lin, R., Dennis, B., Hurford, G. et al. *The Reuven Ramaty High-Energy Solar Spectroscopic Imager (RHESSI)*. Sol Phys 210, 3–32 (**2002**). [doi:10.1023/A:1022428818870](https://doi.org/10.1023/A:1022428818870)"
   ]
  }
 ],
 "metadata": {
  "kernelspec": {
   "display_name": "Python 3 (ipykernel)",
   "language": "python",
   "name": "python3"
  },
  "language_info": {
   "codemirror_mode": {
    "name": "ipython",
    "version": 3
   },
   "file_extension": ".py",
   "mimetype": "text/x-python",
   "name": "python",
   "nbconvert_exporter": "python",
   "pygments_lexer": "ipython3",
   "version": "3.11.5"
  }
 },
 "nbformat": 4,
 "nbformat_minor": 5
}
