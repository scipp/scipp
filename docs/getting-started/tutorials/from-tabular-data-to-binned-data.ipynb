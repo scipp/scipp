{
 "cells": [
  {
   "cell_type": "markdown",
   "id": "0",
   "metadata": {
    "tags": []
   },
   "source": [
    "# From tabular data to binned data"
   ]
  },
  {
   "cell_type": "code",
   "execution_count": null,
   "id": "1",
   "metadata": {},
   "outputs": [],
   "source": [
    "import plopp as pp\n",
    "import scipp as sc\n",
    "\n",
    "%matplotlib widget"
   ]
  },
  {
   "cell_type": "markdown",
   "id": "2",
   "metadata": {
    "tags": []
   },
   "source": [
    "## Overview"
   ]
  },
  {
   "cell_type": "markdown",
   "id": "3",
   "metadata": {
    "tags": []
   },
   "source": [
    "Binned data in Scipp is conceptually equivalent to an array of tables.\n",
    "In other words, it represents an array of records (table rows) sorted into an (often multi-dimensional) array of \"bins\".\n",
    "In this tutorial we begin by learning how to setup tabular data appropriate for histogramming and binning with scipp.\n",
    "The main focus will then be binning the tabular data and basic usage of the resulting binned data.\n",
    "\n",
    "We will use a file of a simulated neutron-scattering experiment &mdash; at the powder diffractometer [DREAM](https://europeanspallationsource.se/instruments/dream) at the European Spallation Source.\n",
    "The approach and techniques displayed here are however applicable far more generally and not specific to this scientific area."
   ]
  },
  {
   "cell_type": "markdown",
   "id": "4",
   "metadata": {
    "tags": []
   },
   "source": [
    "## Loading tabular data"
   ]
  },
  {
   "cell_type": "markdown",
   "id": "5",
   "metadata": {
    "tags": []
   },
   "source": [
    "We will use a file created by a simulation for a diamond sample using [McStas](http://www.mcstas.org/) and [Geant4](https://geant4.web.cern.ch/).\n",
    "We can use [scipp.io.load_csv](../../generated/modules/scipp.io.csv.load_csv.rst) to load the file as a dataset.\n",
    "The column headers of the file encode physical units in the form of `tof [ns]`.\n",
    "The `'bracket'` header parser understands this format and extracts the units."
   ]
  },
  {
   "cell_type": "code",
   "execution_count": null,
   "id": "6",
   "metadata": {
    "tags": []
   },
   "outputs": [],
   "source": [
    "filename = 'https://public.esss.dk/groups/scipp/scipp/1/data_dream_diamond.zip'\n",
    "ds = sc.io.load_csv(\n",
    "    filename,\n",
    "    sep='\\t',\n",
    "    header_parser='bracket',\n",
    ")\n",
    "ds"
   ]
  },
  {
   "cell_type": "markdown",
   "id": "7",
   "metadata": {},
   "source": [
    "This 1-D dataset represents the tabular data that was read from the file.\n",
    "In the above table, each row (record) describes an *event*, in this case the detection of a neutron, with its associated metadata such as the detector module or the x, y, and z position.\n",
    "\n",
    "To histogram or bin data by a column, Scipp must know which columns are metadata and which column holds data values.\n",
    "The table is actually a table of metadata values for events with an implicit data value of \"1 count\" each.\n",
    "To continue we convert this into a data array:"
   ]
  },
  {
   "cell_type": "code",
   "execution_count": null,
   "id": "8",
   "metadata": {
    "tags": []
   },
   "outputs": [],
   "source": [
    "table = sc.DataArray(\n",
    "    sc.ones(sizes=ds.sizes, unit='counts'),\n",
    "    coords={name: column.data for name, column in ds.items()},\n",
    ")\n",
    "sc.table(table[:10])"
   ]
  },
  {
   "cell_type": "markdown",
   "id": "9",
   "metadata": {},
   "source": [
    "## Histogramming and binning"
   ]
  },
  {
   "cell_type": "markdown",
   "id": "10",
   "metadata": {},
   "source": [
    "We are now ready to bin or histogram our data.\n",
    "Scipp uses the following terminology:\n",
    "\n",
    "- Binning preserves the original data records as a table associated with each bin.\n",
    "- Histogramming adds up the values from all contributing records into a single value per bin.\n",
    "\n",
    "As an initial 1-D example, we will compute a wavelength histogram.\n",
    "The table can be histogrammed using [sc.hist](https://scipp.github.io/generated/functions/scipp.hist.html) or the equivalent method provided by `DataArray`.\n",
    "Here we provide a desired bin count (1000).\n",
    "This will result in equally sized bins covering the full wavelength range:"
   ]
  },
  {
   "cell_type": "code",
   "execution_count": null,
   "id": "11",
   "metadata": {},
   "outputs": [],
   "source": [
    "histogrammed = table.hist(wavelength=1000)\n",
    "histogrammed"
   ]
  },
  {
   "cell_type": "markdown",
   "id": "12",
   "metadata": {},
   "source": [
    "Instead of specifying bin *count* we may also specify a bin *size*, given by a 0-D variable:"
   ]
  },
  {
   "cell_type": "code",
   "execution_count": null,
   "id": "13",
   "metadata": {},
   "outputs": [],
   "source": [
    "table.hist(wavelength=sc.scalar(0.02, unit='Angstrom'))"
   ]
  },
  {
   "cell_type": "markdown",
   "id": "14",
   "metadata": {},
   "source": [
    "Instead of `hist`, we can use [sc.bin](https://scipp.github.io/generated/functions/scipp.bin.html) (or the equivalent method provided by `DataArray`), which keeps the underlying events and their metadata:"
   ]
  },
  {
   "cell_type": "code",
   "execution_count": null,
   "id": "15",
   "metadata": {},
   "outputs": [],
   "source": [
    "binned = table.bin(wavelength=1000)\n",
    "binned"
   ]
  },
  {
   "cell_type": "markdown",
   "id": "16",
   "metadata": {},
   "source": [
    "Since we used the same bin count (resulting in the same bin edges) for histogramming and binning, computing the sum of values within each bin (given by `binned.hist()`, a shorthand for `binned.bins.sum()`) yields the same result as histogramming directly.\n",
    "Therefore only a single line is visible in the following plot:"
   ]
  },
  {
   "cell_type": "code",
   "execution_count": null,
   "id": "17",
   "metadata": {},
   "outputs": [],
   "source": [
    "bin_sums = binned.hist()  # same as binned.bins.sum()\n",
    "sc.plot({'histogrammed': histogrammed, 'binned': bin_sums})"
   ]
  },
  {
   "cell_type": "markdown",
   "id": "18",
   "metadata": {},
   "source": [
    "While the result of histogramming may appear similar or identical, the internal structure is very different.\n",
    "The histogrammed data consists of essentially two arrays, one for the values (yellow) and one for the wavelengths (green):"
   ]
  },
  {
   "cell_type": "code",
   "execution_count": null,
   "id": "19",
   "metadata": {},
   "outputs": [],
   "source": [
    "sc.show(histogrammed)"
   ]
  },
  {
   "cell_type": "markdown",
   "id": "20",
   "metadata": {},
   "source": [
    "The top level structure of the binned data is the same, i.e., we have and array of values and an array of wavelengths.\n",
    "The difference is that each value (bin) stores all contributing table rows:"
   ]
  },
  {
   "cell_type": "code",
   "execution_count": null,
   "id": "21",
   "metadata": {},
   "outputs": [],
   "source": [
    "sc.show(binned)"
   ]
  },
  {
   "cell_type": "markdown",
   "id": "22",
   "metadata": {
    "tags": []
   },
   "source": [
    "### Exercise 1\n",
    "\n",
    "- Histogram and bin `table` by `z_pos`.\n",
    "  Plot the results.\n",
    "- Use `bin` *on the result of the binning from the first bullet* with a *different* value for `z_pos` (for example with more bins), i.e., *not* on the original table `table`.\n",
    "  Why is this possible?\n",
    "  \n",
    "#### Solution"
   ]
  },
  {
   "cell_type": "code",
   "execution_count": null,
   "id": "23",
   "metadata": {
    "tags": [
     "solution"
    ]
   },
   "outputs": [],
   "source": [
    "binned_z = table.bin(z_pos=100)\n",
    "solution1 = {}\n",
    "solution1['histogrammed'] = table.hist(z_pos=100)\n",
    "solution1['binned'] = binned_z.hist()\n",
    "solution1['binned_high_resolution'] = binned_z.bin(z_pos=300).hist()\n",
    "sc.plot(solution1)"
   ]
  },
  {
   "cell_type": "markdown",
   "id": "24",
   "metadata": {},
   "source": [
    "## Multi-dimensional spatial binning"
   ]
  },
  {
   "cell_type": "markdown",
   "id": "25",
   "metadata": {},
   "source": [
    "`bin` can handle multiple dimensions:"
   ]
  },
  {
   "cell_type": "code",
   "execution_count": null,
   "id": "26",
   "metadata": {},
   "outputs": [],
   "source": [
    "binned_xyz = table.bin(z_pos=31, y_pos=31, x_pos=31)  # 31**3 bins\n",
    "pp.slicer(\n",
    "    binned_xyz['z_pos', 20:].hist(), keep=['x_pos', 'y_pos'], norm='log', aspect='equal'\n",
    ")"
   ]
  },
  {
   "cell_type": "markdown",
   "id": "27",
   "metadata": {},
   "source": [
    "Above we can see a cut through the detector assembly, which has the shape of a thick cylinder mantle.\n",
    "\n",
    "The advantage of binned data over histogrammed data is that metadata for each underlying event is still present.\n",
    "We can therefore change the binning, or bin in additional dimensions.\n",
    "For example, we can select the slice containing $z = 0$ and turn it into a higher-resolution cut.\n",
    "\n",
    "Here we show an example of how, e.g., `scipp.linspace` can be used to create custom bin-edges instead of relying on the edges `bin` determines automatically based on a requested bin-count:"
   ]
  },
  {
   "cell_type": "code",
   "execution_count": null,
   "id": "28",
   "metadata": {},
   "outputs": [],
   "source": [
    "x_edges = sc.linspace('x_pos', 400, 1500, num=41, unit='mm')\n",
    "z_slice = binned_xyz['z_pos', sc.scalar(0.0, unit='mm')]\n",
    "xy_cut = z_slice.bin(y_pos=100, x_pos=x_edges)\n",
    "xy_cut"
   ]
  },
  {
   "cell_type": "code",
   "execution_count": null,
   "id": "29",
   "metadata": {},
   "outputs": [],
   "source": [
    "sc.plot(xy_cut.hist().transpose(), aspect='equal')"
   ]
  },
  {
   "cell_type": "markdown",
   "id": "30",
   "metadata": {},
   "source": [
    "Using custom bin edges has advantages and disadvantages:\n",
    "\n",
    "- If a bin-count is provided, `bin` and `histogram` need to compute the minimum and maximum over the coordinate, which adds extra cost to the operation.\n",
    "- Automatic bin-edges based on a bin-count rarely yield \"nice\" (rounded) bounds, which may not be desirable for plots.\n",
    "- Automatic bin-counts avoids two common pitfalls:\n",
    "  - To obtain, say, 100 bins we must provide 101 edges.\n",
    "  - Intervals in Scipp are closed on the left but open on the right, i.e., $[...)$.\n",
    "    If custom bin edges are computed naively from the `max()` of the corresponding coordinate, e.g., using `scipp.linspace`, then the data value at the maximum will *not* be included."
   ]
  },
  {
   "cell_type": "markdown",
   "id": "31",
   "metadata": {},
   "source": [
    "### Exercise 2\n",
    "\n",
    "- The detector assembly is cylindrical, aligned with the z-axis.\n",
    "  Compute the distance from the z-axis (from the `x_pos` and `y_pos` coordinates) and store it as a new coordinate in `table`.\n",
    "  This is the radius in cylinder coordinates.\n",
    "- Define bin edges for the radius using `scipp.linspace`.\n",
    "- Bin `table` by `z_pos` and the radius.\n",
    "- Plot the result.\n",
    "\n",
    "#### Solution"
   ]
  },
  {
   "cell_type": "code",
   "execution_count": null,
   "id": "32",
   "metadata": {
    "tags": [
     "solution"
    ]
   },
   "outputs": [],
   "source": [
    "radius = sc.sqrt(table.coords['x_pos'] ** 2 + table.coords['y_pos'] ** 2)\n",
    "table.coords['radius'] = radius\n",
    "radius_edges = sc.linspace(\n",
    "    'radius', radius.min(), radius.max() + sc.scalar(1, unit='mm'), num=13\n",
    ")\n",
    "binned_zr = table.bin(z_pos=31, radius=radius_edges)\n",
    "binned_zr.hist().plot()"
   ]
  },
  {
   "cell_type": "markdown",
   "id": "33",
   "metadata": {},
   "source": [
    "## Multi-dimensional logical binning"
   ]
  },
  {
   "cell_type": "markdown",
   "id": "34",
   "metadata": {},
   "source": [
    "Above we binned according to x, y, and z.\n",
    "This reflects neither the physics nor the logical structure of the detectors and is generally not very useful.\n",
    "The original table additionally contains information about the logical structure of the detector array.\n",
    "In this case it is divided into modules, segments, counters, wires, and strips.\n",
    "We can use `group` to perform a binning based on discrete values.\n",
    "The result is 5-D:"
   ]
  },
  {
   "cell_type": "code",
   "execution_count": null,
   "id": "35",
   "metadata": {},
   "outputs": [],
   "source": [
    "binned_logical = table.group('module', 'segment', 'counter', 'wire', 'strip')\n",
    "binned_logical"
   ]
  },
  {
   "cell_type": "markdown",
   "id": "36",
   "metadata": {},
   "source": [
    "Above we used automatic group setup.\n",
    "This will create a group for each unique value.\n",
    "Explicit custom groups (given as a variable) should often be favored in practice, for two reasons:\n",
    "\n",
    "- If only a group label is provided, `group` needs to determine all unique values in the corresponding coordinate.\n",
    "  This can be very costly if the input data is large.\n",
    "- Automatic grouping can be \"unstable\", in the sense that the actual groups that are created can vary randomly if the input changes.\n",
    "  This can lead to incompatibilities between grouped data obtained with different inputs.\n",
    "  If the set of possible coordinate values is known in advance it is therefore beneficial to provide these explicitly.\n",
    "  \n",
    "Explicit custom groups can also be used to extract a subset of the data:"
   ]
  },
  {
   "cell_type": "code",
   "execution_count": null,
   "id": "37",
   "metadata": {},
   "outputs": [],
   "source": [
    "wire1234 = table.group(sc.array(dims=['wire'], values=[1, 2, 3, 4], unit=None))\n",
    "wire1234.hist().plot()"
   ]
  },
  {
   "cell_type": "markdown",
   "id": "38",
   "metadata": {},
   "source": [
    "### Exercise 3\n",
    "\n",
    "- Group `table` but only by strip and wire.\n",
    "- Plot the result.\n",
    "\n",
    "#### Solution"
   ]
  },
  {
   "cell_type": "code",
   "execution_count": null,
   "id": "39",
   "metadata": {
    "tags": [
     "solution"
    ]
   },
   "outputs": [],
   "source": [
    "binned_strip_wire = table.group('strip', 'wire')\n",
    "print(\n",
    "    'Neutrons arrive from the \"left\" in the following figure (low wire index).'\n",
    "    'They are gradually absorbed so the intensity decreases as we reach deeper '\n",
    "    'voxel layers:'\n",
    ")\n",
    "binned_strip_wire.hist().plot()"
   ]
  },
  {
   "cell_type": "markdown",
   "id": "40",
   "metadata": {},
   "source": [
    "## From event-based metadata to bin-based metadata"
   ]
  },
  {
   "cell_type": "markdown",
   "id": "41",
   "metadata": {},
   "source": [
    "For each detected neutron our data records the position of the associated voxel.\n",
    "After the logical grouping above, every bin corresponds to a voxel.\n",
    "\n",
    "It can be more practical to store the voxel position for every bin (voxel) instead of for every event.\n",
    "This can be achieved, e.g., by computing the mean for every bin.\n",
    "Note that in this case all events in a voxel record the same voxel position so this procedure is wasteful &mdash; in practice we may prefer loading the voxel positions directly from a file.\n",
    "\n",
    "We can also combine the x, y, and z components into a single array of position vectors:"
   ]
  },
  {
   "cell_type": "code",
   "execution_count": null,
   "id": "42",
   "metadata": {},
   "outputs": [],
   "source": [
    "pos = sc.zeros(sizes=binned_logical.sizes, dtype=sc.DType.vector3, unit='mm')\n",
    "# We 'pop' the coordinates. If desired they could be kept by using\n",
    "# __getitem__ instead\n",
    "pos.fields.x = binned_logical.bins.coords.pop('voxel_x').bins.mean()\n",
    "pos.fields.y = binned_logical.bins.coords.pop('voxel_y').bins.mean()\n",
    "pos.fields.z = binned_logical.bins.coords.pop('voxel_z').bins.mean()\n",
    "binned_logical.coords['position'] = pos\n",
    "binned_logical"
   ]
  },
  {
   "cell_type": "markdown",
   "id": "43",
   "metadata": {},
   "source": [
    "We have removed three event-based coordinates (`voxel_x`, `voxel_y`, and `voxel_z`) and replaced it by a single bin-coordinate, `position`.\n",
    "Note how the contents of the bins have changed compared to earlier in this tutorial:"
   ]
  },
  {
   "cell_type": "code",
   "execution_count": null,
   "id": "44",
   "metadata": {},
   "outputs": [],
   "source": [
    "# Extra dimensions sliced out for display purposes, sc.show cannot deal with 5-D data\n",
    "sc.show(\n",
    "    binned_logical['strip', 0]['counter', 0]['segment', 0]['module', :5].transpose()\n",
    ")"
   ]
  },
  {
   "cell_type": "markdown",
   "id": "45",
   "metadata": {},
   "source": [
    "Equipped with the position of every voxel, we can compute the number of neutrons counted per voxel and create a 3-D scatter plot.\n",
    "The \"scatter points\" correspond to the voxel positions.\n",
    "In this particular case some voxels had no associated neutrons so the computed position is invalid (`binned.coords['position']` contains `NaN`) and no scatter point is shown:"
   ]
  },
  {
   "cell_type": "code",
   "execution_count": null,
   "id": "46",
   "metadata": {},
   "outputs": [],
   "source": [
    "counts_per_voxel = binned_logical.hist()\n",
    "# The following line selects a subset of voxels based on a stride. This is to keep the size\n",
    "# of the documentation HTML small. You can comment or remove it to plot all voxels.\n",
    "counts_per_voxel = counts_per_voxel['counter', 0]['strip', ::4]['wire', ::2]\n",
    "pp.scatter3d(counts_per_voxel, pos='position', pixel_size=20, cbar=True)"
   ]
  },
  {
   "cell_type": "markdown",
   "id": "47",
   "metadata": {},
   "source": [
    "We can also inspect an individual component such as a strip:"
   ]
  },
  {
   "cell_type": "code",
   "execution_count": null,
   "id": "48",
   "metadata": {},
   "outputs": [],
   "source": [
    "strip_counts = binned_logical['strip', 200].hist()\n",
    "pp.scatter3d(strip_counts, pos='position', pixel_size=10, cbar=True)"
   ]
  },
  {
   "cell_type": "markdown",
   "id": "49",
   "metadata": {},
   "source": [
    "### Exercise 4\n",
    "\n",
    "Above, in [Multi-dimensional logical binning](#Multi-dimensional-logical-binning), we grouped by voxel (based on 5 distinct logical indices) and then computed voxel positions.\n",
    "\n",
    "- Repeat this without binning by wire, i.e., use only module, segment, counter, and strip.\n",
    "- Compute the resulting mean positions from event positions analogously to before.\n",
    "  Alternatively, you can compute these directly from the voxel positions, but note that some voxels have NaN positions, so `nanmean` must be used instead of `mean`.\n",
    "- Create a scatter plot as before.\n",
    "  This should yield a rough projection onto a cylinder.\n",
    "  \n",
    "#### Solution"
   ]
  },
  {
   "cell_type": "code",
   "execution_count": null,
   "id": "50",
   "metadata": {
    "tags": [
     "solution"
    ]
   },
   "outputs": [],
   "source": [
    "proj = table.group('module', 'segment', 'counter', 'strip')\n",
    "proj_hist = proj.hist()\n",
    "proj_hist.coords['proj_pos'] = pos.nanmean('wire')\n",
    "pp.scatter3d(proj_hist, pos='proj_pos', pixel_size=10, norm='log', cbar=True)"
   ]
  },
  {
   "cell_type": "markdown",
   "id": "51",
   "metadata": {
    "tags": []
   },
   "source": [
    "## Binning with edges and groups combined"
   ]
  },
  {
   "cell_type": "markdown",
   "id": "52",
   "metadata": {},
   "source": [
    "It is also possible to combine binning and grouping.\n",
    "Since strips roughly correspond to scattering angle, a plot against wavelength and strip may be useful.\n",
    "\n",
    "### Exercise 5\n",
    "\n",
    "- Use group `table` by 'strip' and bin by 'wavelength'.\n",
    "- Plot the result.\n",
    "\n",
    "#### Solution"
   ]
  },
  {
   "cell_type": "code",
   "execution_count": null,
   "id": "53",
   "metadata": {
    "tags": [
     "solution"
    ]
   },
   "outputs": [],
   "source": [
    "binned_strip_wavelength = table.group('strip').bin(wavelength=1000)\n",
    "binned_strip_wavelength.hist().plot(norm='log')"
   ]
  }
 ],
 "metadata": {
  "kernelspec": {
   "display_name": "Python 3 (ipykernel)",
   "language": "python",
   "name": "python3"
  },
  "language_info": {
   "codemirror_mode": {
    "name": "ipython",
    "version": 3
   },
   "file_extension": ".py",
   "mimetype": "text/x-python",
   "name": "python",
   "nbconvert_exporter": "python",
   "pygments_lexer": "ipython3",
   "version": "3.9.16"
  }
 },
 "nbformat": 4,
 "nbformat_minor": 5
}
