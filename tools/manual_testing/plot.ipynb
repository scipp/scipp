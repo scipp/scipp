{
 "cells": [
  {
   "cell_type": "markdown",
   "id": "1f8cc565-023d-4ee5-b0fa-2c4ee6aa2483",
   "metadata": {},
   "source": [
    "# Overview: Manual testing for plotting functionality\n",
    "\n",
    "Notes:\n",
    "- Dimensions are not `x` and `y` since this is used internally in matplotlib-related code and masks potential bugs."
   ]
  },
  {
   "cell_type": "code",
   "execution_count": null,
   "id": "633c3877-e211-4c05-a6a4-7d446dccfb29",
   "metadata": {},
   "outputs": [],
   "source": [
    "import scipp as sc\n",
    "import numpy as np\n",
    "def make_array(unit='K'):\n",
    "    data = sc.array(dims=['xx','yy','zz'], unit=unit, values=np.sin(0.1*np.arange(4*4*40)).reshape(4,40,4), variances=0.01*np.ones((4,40,4)))\n",
    "    da = sc.DataArray(data=data)\n",
    "    da.coords['yy'] = sc.linspace(dim='yy', unit='km', start=1.1, stop=5.2, num=40)\n",
    "    da.coords['xx'] = sc.linspace(dim='xx', unit='mm', start=1.1, stop=5.2, num=5)\n",
    "    da.coords['xx2'] = sc.linspace(dim='xx', unit='m', start=1.1, stop=55.2, num=5)\n",
    "    da.masks['mask'] = da.coords['xx']['xx',1:] > 5.0 * sc.Unit('mm')\n",
    "    return da"
   ]
  },
  {
   "cell_type": "markdown",
   "id": "b18a9f17-c8b7-46d5-873d-b2f86f34fefc",
   "metadata": {},
   "source": [
    "# 1d plotting\n",
    "## General\n",
    "\n",
    "Check:\n",
    "- Axis switching\n",
    "  - Log buttons remember state\n",
    "- Slider (before and after switching)\n",
    "  - Slider range readout\n",
    "- Profile (before and after switching)\n",
    "  - Line labels in profile figure\n",
    "- Keeping lines (check line labels)"
   ]
  },
  {
   "cell_type": "code",
   "execution_count": null,
   "id": "bbe4f783-d24c-4ab4-a31e-f620a7d99894",
   "metadata": {},
   "outputs": [],
   "source": [
    "da = make_array()\n",
    "da['zz',0].plot(projection='1d', vmin=-2*da.unit, vmax=2*da.unit)"
   ]
  },
  {
   "cell_type": "markdown",
   "id": "e766d02d-aca2-4b5e-9131-c06d83a322a4",
   "metadata": {},
   "source": [
    "Check:\n",
    "- Similar to above, but with two sliders.\n",
    "- Profile button should currently be disabled since 2d profile not supported yet."
   ]
  },
  {
   "cell_type": "code",
   "execution_count": null,
   "id": "d8416058-c17f-4766-ae31-c881802a2fd5",
   "metadata": {},
   "outputs": [],
   "source": [
    "da.plot(projection='1d', vmin=-2*da.unit, vmax=2*da.unit)"
   ]
  },
  {
   "cell_type": "markdown",
   "id": "36f86c07-cdd8-47ea-a822-58e533ad2d3c",
   "metadata": {},
   "source": [
    "## 1d plot of non-counts\n",
    "\n",
    "Check that normalization not messed up, plot should show a constant line at $1~\\text{K}$:"
   ]
  },
  {
   "cell_type": "code",
   "execution_count": null,
   "id": "e8fcdf65-e7f8-47a6-86f4-c1a55973909f",
   "metadata": {},
   "outputs": [],
   "source": [
    "import scipp as sc\n",
    "da = sc.DataArray(data=sc.ones(dims=['x'], shape=[100], unit='K'),\n",
    "                  coords={'x':sc.geomspace(dim='x', start=1, stop=1e6, num=100)})\n",
    "da.plot()"
   ]
  },
  {
   "cell_type": "markdown",
   "id": "e316ab2c-9ca3-4631-8aac-d758fca2974d",
   "metadata": {},
   "source": [
    "## 1d plot with multiple lines\n",
    "\n",
    "Check:\n",
    "- Lines can be kept and labels are correct\n",
    "- Profile works\n",
    "  - Clicking keeps both lines in profile, with correct labels"
   ]
  },
  {
   "cell_type": "code",
   "execution_count": null,
   "id": "9fc251de-8813-4642-836c-a3a76fb4e2d7",
   "metadata": {},
   "outputs": [],
   "source": [
    "da = make_array()\n",
    "sc.plot({'a':da['zz',0], 'b':da['zz',1]}, projection='1d')"
   ]
  },
  {
   "cell_type": "markdown",
   "id": "4115a90a-fb63-4f15-889a-e445d6ea9244",
   "metadata": {},
   "source": [
    "# 2d plotting\n",
    "## 2d plot of 3d data with slider\n",
    "\n",
    "- Custom labels for `xx` should be used for:\n",
    "  - axis tics\n",
    "  - button for dim selection\n",
    "  - slider range display\n",
    "  - line label if line kept in profile plot"
   ]
  },
  {
   "cell_type": "code",
   "execution_count": null,
   "id": "3b104133-1dfa-40f5-8175-ce309c52fcbe",
   "metadata": {},
   "outputs": [],
   "source": [
    "da = make_array()\n",
    "da.coords['xx2']"
   ]
  },
  {
   "cell_type": "code",
   "execution_count": null,
   "id": "80128810-0c66-486b-bc5f-46f8914fd438",
   "metadata": {},
   "outputs": [],
   "source": [
    "da.plot(labels={'xx':'xx2'}, errorbars=False)"
   ]
  },
  {
   "cell_type": "markdown",
   "id": "38262eda-1dbb-498b-81a1-2215e82b8027",
   "metadata": {},
   "source": [
    "## 2d plot of 3d counts data with slider\n",
    "\n",
    "- Profile readout must be consistent through zoom levels\n",
    "  - Note that this is only the case as long as pixels are not merged"
   ]
  },
  {
   "cell_type": "code",
   "execution_count": null,
   "id": "7afba102-83d1-4748-b93b-fb4e469fe292",
   "metadata": {},
   "outputs": [],
   "source": [
    "da = make_array(unit='counts')\n",
    "da.plot(labels={'xx':'xx2'}, errorbars=False)"
   ]
  },
  {
   "cell_type": "markdown",
   "id": "bc72682e-cc04-4959-b7e0-1f2ff62c2b49",
   "metadata": {},
   "source": [
    "## 2d plot of 4d data\n",
    "\n",
    "Check:\n",
    "- Profile button not shown since 2d profile not supported yet\n",
    "- Axis switching etc. works"
   ]
  },
  {
   "cell_type": "code",
   "execution_count": null,
   "id": "13f7b261-8155-4ae4-896e-e26ebedc0625",
   "metadata": {},
   "outputs": [],
   "source": [
    "da4d = sc.concatenate(da, da*sc.scalar(2.0), 'time')\n",
    "da4d.plot()"
   ]
  },
  {
   "cell_type": "markdown",
   "id": "d1dbc1f3-dd0d-4dc2-b3bf-9d9b9185a745",
   "metadata": {},
   "source": [
    "# Datetime coords\n",
    "\n",
    "Check (in all of the below plots):\n",
    "- Axis tick labels correct\n",
    "- Labels on sliders correct\n",
    "- Behavior when zooming correct\n",
    "  - Note crash with certain range (can be triggered by zooming or changing datetime coord to commented line) https://github.com/scipp/scipp/issues/2021"
   ]
  },
  {
   "cell_type": "code",
   "execution_count": null,
   "id": "d15b7b6b-5a93-4cc5-a3e3-b4836e0cb2ff",
   "metadata": {},
   "outputs": [],
   "source": [
    "da = make_array()\n",
    "da.coords['xx'] = sc.scalar(np.datetime64(\"now\")) + sc.linspace(dim='xx', unit='s', dtype='int64', start=1, stop=5000, num=5)\n",
    "# TODO fix datetime formatting exception https://github.com/scipp/scipp/issues/2021\n",
    "# Trigger by zoom to certain level or use this:\n",
    "#da.coords['xx'] = sc.scalar(np.datetime64(\"now\")) + sc.linspace(dim='xx', unit='s', dtype='int64', start=1, stop=3, num=5)\n",
    "da['zz',0].plot(projection='1d')"
   ]
  },
  {
   "cell_type": "code",
   "execution_count": null,
   "id": "9fc814bc-273c-47e6-b3c5-0b9ef6029a28",
   "metadata": {},
   "outputs": [],
   "source": [
    "da['zz',0]['yy',0].plot()"
   ]
  },
  {
   "cell_type": "code",
   "execution_count": null,
   "id": "da6b053a-9e18-42cf-baeb-e5edc86957d4",
   "metadata": {},
   "outputs": [],
   "source": [
    "da.plot()"
   ]
  },
  {
   "cell_type": "code",
   "execution_count": null,
   "id": "9be2f254-4933-4c80-848d-12542c134a30",
   "metadata": {},
   "outputs": [],
   "source": [
    "da['zz', 0].plot()"
   ]
  },
  {
   "cell_type": "markdown",
   "id": "f83407c0-7c0a-4e7a-a161-3f2ab088fb9f",
   "metadata": {},
   "source": [
    "Check correct bevahior with a higher-precision datetime, especially when zooming in:"
   ]
  },
  {
   "cell_type": "code",
   "execution_count": null,
   "id": "91dc89ed-e0b0-4d08-9eac-c2a9b07521d6",
   "metadata": {},
   "outputs": [],
   "source": [
    "da.coords['xx'] = sc.to_unit(da.coords['xx'], 'ns')\n",
    "da.plot()"
   ]
  },
  {
   "cell_type": "markdown",
   "id": "4137b631-85e7-44e8-814f-123dcbb81453",
   "metadata": {},
   "source": [
    "# `redraw`"
   ]
  },
  {
   "cell_type": "code",
   "execution_count": null,
   "id": "ab770d7f-3758-4c46-bc2e-1c672b2f95a9",
   "metadata": {},
   "outputs": [],
   "source": [
    "da1d = da['xx',0]['zz',0].copy()\n",
    "plot = da1d.plot()\n",
    "plot.show()"
   ]
  },
  {
   "cell_type": "markdown",
   "id": "734aea78-e6e5-4e66-9886-502e05fe19ee",
   "metadata": {},
   "source": [
    "Running this cell should flip data (vertical axis) in plot above:"
   ]
  },
  {
   "cell_type": "code",
   "execution_count": null,
   "id": "71f76584-fcdd-4c7a-b38a-23f742f006df",
   "metadata": {},
   "outputs": [],
   "source": [
    "da1d.data *= -1.0\n",
    "plot.redraw()"
   ]
  },
  {
   "cell_type": "code",
   "execution_count": null,
   "id": "6e4150c7-0170-4c6d-936f-7e9e6924334b",
   "metadata": {},
   "outputs": [],
   "source": [
    "da2d = da['xx',0].copy()\n",
    "plot = da2d.plot()\n",
    "plot.show()"
   ]
  },
  {
   "cell_type": "markdown",
   "id": "48db0f7a-bbaf-4a0e-b10e-2e18d6064836",
   "metadata": {},
   "source": [
    "Running this cell should flip data (color axis) in plot above:"
   ]
  },
  {
   "cell_type": "code",
   "execution_count": null,
   "id": "545fd83c-960d-41a8-a9f2-65635ec6302a",
   "metadata": {},
   "outputs": [],
   "source": [
    "da2d.data *= -1.0\n",
    "plot.redraw()"
   ]
  },
  {
   "cell_type": "markdown",
   "id": "3b795576-e061-422e-a1c7-aeb6674a6282",
   "metadata": {},
   "source": [
    "# Multi-dimensional coord"
   ]
  },
  {
   "cell_type": "code",
   "execution_count": null,
   "id": "e77a8503-368f-44e7-b895-2e3d9ef89785",
   "metadata": {},
   "outputs": [],
   "source": [
    "da_multi = da.copy()\n",
    "da_multi.coords['zz'] = sc.array(dims=['yy', 'zz'], unit='um', values=np.arange(160).reshape(40,4))\n",
    "da_multi['xx',0].plot()"
   ]
  },
  {
   "cell_type": "code",
   "execution_count": null,
   "id": "690e7149-a583-42f1-98c2-fac509e642d4",
   "metadata": {},
   "outputs": [],
   "source": [
    "da_multi.plot()"
   ]
  },
  {
   "cell_type": "code",
   "execution_count": null,
   "id": "0dfdb738-ebb4-4912-bde0-595e464414f2",
   "metadata": {},
   "outputs": [],
   "source": [
    "try:\n",
    "    da_multi.transpose().plot()\n",
    "except sc.DimensionError as e:\n",
    "    print(e)"
   ]
  },
  {
   "cell_type": "markdown",
   "id": "2147bbc8-3aed-48be-b5db-d5918377e8ef",
   "metadata": {},
   "source": [
    "# Binned data"
   ]
  },
  {
   "cell_type": "code",
   "execution_count": null,
   "id": "add3b077-92cb-40f0-a016-1297a9fb48b3",
   "metadata": {},
   "outputs": [],
   "source": [
    "import scipp as sc\n",
    "import numpy as np\n",
    "N = int(80000)\n",
    "values = np.random.rand(N)\n",
    "data = sc.DataArray(\n",
    "    data=sc.Variable(dims=['event'], values=values, unit=''),\n",
    "    coords={\n",
    "        'xx':sc.Variable(dims=['event'], values=np.random.rand(N)),\n",
    "        'yy':sc.Variable(dims=['event'], values=np.random.rand(N)),\n",
    "        'zz':sc.Variable(dims=['event'], values=np.random.rand(N))\n",
    "    })\n",
    "binned = sc.bin(data, edges=[sc.linspace(dim='xx', start=0.0,stop=1.0,num=10),\n",
    "                             sc.linspace(dim='yy', start=0.0,stop=1.0,num=4),\n",
    "                             sc.linspace(dim='zz', start=0.0,stop=1.0,num=4)])\n",
    "binned.plot(resolution=100)"
   ]
  },
  {
   "cell_type": "code",
   "execution_count": null,
   "id": "a3c6f435-5f01-4923-85c7-8fd4195cbec0",
   "metadata": {},
   "outputs": [],
   "source": [
    "binned['xx', 0].plot(resolution=100)"
   ]
  },
  {
   "cell_type": "markdown",
   "id": "1d4bc382-f2ac-45ff-a447-53fc0ffe0f38",
   "metadata": {},
   "source": [
    "Known issues (to fix):\n",
    "- Slider steps are based on coarse underlying binning\n",
    "- Profile selection based on coarse underlying binning"
   ]
  },
  {
   "cell_type": "code",
   "execution_count": null,
   "id": "4785c953-ff34-4496-996e-fa931df16ee3",
   "metadata": {},
   "outputs": [],
   "source": [
    "binned['xx', 0].plot(projection='1d', resolution=100)"
   ]
  },
  {
   "cell_type": "code",
   "execution_count": null,
   "id": "ab160e28-4b5c-4f61-8c15-ae0af7ee7892",
   "metadata": {},
   "outputs": [],
   "source": [
    "binned['xx', 0]['yy', 0].plot()"
   ]
  },
  {
   "cell_type": "markdown",
   "id": "f1382619-4769-4683-b46f-70bb54f20ecf",
   "metadata": {},
   "source": [
    "# 3d plotting\n",
    "Known issues (to fix):\n",
    "- Profile button should be disabled or not shown, until supported"
   ]
  },
  {
   "cell_type": "markdown",
   "id": "a5c4aed4-b2d4-4d63-8f44-6f43211e7677",
   "metadata": {},
   "source": [
    "## Existing positions"
   ]
  },
  {
   "cell_type": "code",
   "execution_count": null,
   "id": "70869384-c95b-425d-a325-8e4b32f729b3",
   "metadata": {},
   "outputs": [],
   "source": [
    "import scipp as sc\n",
    "import numpy as np\n",
    "N = 1000\n",
    "M = 100\n",
    "theta = np.random.random(N) * np.pi\n",
    "phi = np.random.random(N) * 2.0 * np.pi\n",
    "r = 10.0 + (np.random.random(N) - 0.5)\n",
    "x = r * np.sin(theta) * np.sin(phi)\n",
    "y = r * np.sin(theta) * np.cos(phi)\n",
    "z = r * np.cos(theta)\n",
    "\n",
    "a = np.arange(2*M*N).reshape([2, M, N]) * np.sin(y)\n",
    "pos = sc.vectors(dims=['xyz'], unit='m', values=np.array([x, y, z]).T)\n",
    "pos.fields.y *= 2\n",
    "da = sc.DataArray(\n",
    "    data=sc.array(dims=['abc', 'time', 'xyz'], values=a, unit='K'),\n",
    "    #masks={\n",
    "    #    'mask':pos.fields.x < 0.0 * sc.Unit('m')},\n",
    "    coords={\n",
    "        'xyz':pos,\n",
    "        'time':sc.array(dims=['time'], values=np.arange(M).astype(np.float))})\n",
    "da.plot(projection=\"3d\", positions='xyz')"
   ]
  },
  {
   "cell_type": "markdown",
   "id": "f5133b21-4fd6-45d3-8a77-89715af80d2b",
   "metadata": {},
   "source": [
    "## Fake positions for dense data"
   ]
  },
  {
   "cell_type": "code",
   "execution_count": null,
   "id": "9e0f0feb-8f45-496f-a798-a8ac078acb03",
   "metadata": {},
   "outputs": [],
   "source": [
    "import scipp as sc\n",
    "import numpy as np\n",
    "N = 10\n",
    "M = 40\n",
    "L = 30\n",
    "K = 20\n",
    "xx = np.arange(3, N, dtype=np.float64)\n",
    "yy = np.arange(4, M, dtype=np.float64)\n",
    "zz = np.arange(5, L, dtype=np.float64)\n",
    "qq = np.arange(6, K, dtype=np.float64)\n",
    "x, y, z, q = np.meshgrid(xx, yy, zz, qq, indexing='ij')\n",
    "b = N/20.0\n",
    "c = M/2.0\n",
    "d = L/2.0\n",
    "r = np.sqrt(((x-c)/b)**2 + ((y-c)/b)**2 + ((z-d)/b)**2  + ((q-d)/b)**2)\n",
    "a = np.sin(r)\n",
    "d = sc.Dataset()\n",
    "da = sc.DataArray(data=sc.Variable(dims=['xx', 'yy', 'zz', 'Q_x'], values=a, unit='K'))\n",
    "da.coords['xx'] = sc.Variable(dims=['xx'], values=xx)\n",
    "da.coords['yy'] = sc.Variable(dims=['yy'], values=yy, unit='m')\n",
    "da.coords['zz'] = sc.Variable(dims=['zz'], values=zz)\n",
    "da.coords['Q_x'] = sc.Variable(dims=['Q_x'], values=qq)\n",
    "\n",
    "xx2 = da.coords['xx'].copy()\n",
    "yy2 = da.coords['yy'].copy()\n",
    "zz2 = da.coords['zz'].copy()\n",
    "yy2.unit = ''  # deal with potential different units\n",
    "xx2 *= 3.0  # deal with potential differences in axis scales\n",
    "da.coords['dummy-pos'] = sc.geometry.position(xx2, yy2, zz2)\n",
    "da.plot(projection='3d', positions='dummy-pos')"
   ]
  }
 ],
 "metadata": {
  "kernelspec": {
   "display_name": "Python 3 (ipykernel)",
   "language": "python",
   "name": "python3"
  },
  "language_info": {
   "codemirror_mode": {
    "name": "ipython",
    "version": 3
   },
   "file_extension": ".py",
   "mimetype": "text/x-python",
   "name": "python",
   "nbconvert_exporter": "python",
   "pygments_lexer": "ipython3",
   "version": "3.8.10"
  }
 },
 "nbformat": 4,
 "nbformat_minor": 5
}
